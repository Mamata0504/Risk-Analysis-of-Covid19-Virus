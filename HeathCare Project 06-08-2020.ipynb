{
 "cells": [
  {
   "cell_type": "markdown",
   "metadata": {},
   "source": [
    "# Risk Analysis of Covid19 Virus"
   ]
  },
  {
   "cell_type": "markdown",
   "metadata": {},
   "source": [
    "As the outbreak of coronavirus disease 2019 (COVID-19) progresses, epidemiological data are needed to guide situational awareness and intervention strategies. The enormous impact of the COVID-19 pandemic is obvious. What many still haven’t realized, however, is that the impact on ongoing data science production setups has been dramatic, too. Artificial Intelligence is actively used in identifying high risk patients at an earlier stage and therefore helps to control the spread of the infection in real-time. This becomes particularly important at this time of crisis because real time monitoring is the best option for people to self-isolate and mitigate the spread of the virus."
   ]
  },
  {
   "cell_type": "markdown",
   "metadata": {},
   "source": [
    "# Objective 1"
   ]
  },
  {
   "cell_type": "markdown",
   "metadata": {},
   "source": [
    " 1. Given a person and his/her vital data, predict the viability of a RT-PCR test. Basically predict the probability of risk for the given person. The following data inputs could be provided (you can add 3 more attributes)\n",
    " \n",
    "         a. Name, Age, Gender, Address, Blood Pressure, Cough, Fever, travel history \n",
    "         b. Make sure that an optimum position is obtained for the precision and recall metrics. \n",
    "         c. Give a brief summary of attributes used, domain knowledge employed, and different data sources utilised and entire EDA process. Complete data analysis should be presented. \n",
    "         d. Make an API feature that takes the input of patients as request, and returns the response (probability of infection/ vulnerability)."
   ]
  },
  {
   "cell_type": "code",
   "execution_count": 1,
   "metadata": {},
   "outputs": [],
   "source": [
    "#Importing Libraries\n",
    "import pandas as pd\n",
    "import matplotlib.pyplot as  plt\n",
    "import seaborn as sns\n",
    "import numpy as np\n",
    "from sklearn.preprocessing import LabelEncoder\n",
    "from sklearn.preprocessing import StandardScaler,RobustScaler,PowerTransformer\n",
    "from sklearn.model_selection import train_test_split,cross_val_score\n",
    "from sklearn.metrics import accuracy_score,confusion_matrix,classification_report\n",
    "from sklearn.linear_model import LogisticRegression\n",
    "from sklearn import metrics\n",
    "import warnings\n",
    "warnings.filterwarnings(\"ignore\")"
   ]
  },
  {
   "cell_type": "markdown",
   "metadata": {},
   "source": [
    "# Reading of Data"
   ]
  },
  {
   "cell_type": "code",
   "execution_count": 2,
   "metadata": {},
   "outputs": [],
   "source": [
    "df1=pd.read_csv(r'D:\\Velocity Corporate Training\\Python\\Databases\\Healthcare Project\\Covid19India\\raw_data1.csv')\n",
    "df2=pd.read_csv(r'D:\\Velocity Corporate Training\\Python\\Databases\\Healthcare Project\\Covid19India\\raw_data2.csv')\n",
    "df3=pd.read_csv(r'D:\\Velocity Corporate Training\\Python\\Databases\\Healthcare Project\\Covid19India\\raw_data3.csv')\n",
    "df4=pd.read_csv(r'D:\\Velocity Corporate Training\\Python\\Databases\\Healthcare Project\\Covid19India\\raw_data4.csv')\n",
    "df5=pd.read_csv(r'D:\\Velocity Corporate Training\\Python\\Databases\\Healthcare Project\\Covid19India\\raw_data5.csv')\n",
    "df6=pd.read_csv(r'D:\\Velocity Corporate Training\\Python\\Databases\\Healthcare Project\\Covid19India\\raw_data6.csv')\n",
    "df7=pd.read_csv(r'D:\\Velocity Corporate Training\\Python\\Databases\\Healthcare Project\\Covid19India\\raw_data7.csv')\n",
    "df8=pd.read_csv(r'D:\\Velocity Corporate Training\\Python\\Databases\\Healthcare Project\\Covid19India\\raw_data8.csv')\n",
    "df9=pd.read_csv(r'D:\\Velocity Corporate Training\\Python\\Databases\\Healthcare Project\\Covid19India\\raw_data9.csv')\n",
    "df10=pd.read_csv(r'D:\\Velocity Corporate Training\\Python\\Databases\\Healthcare Project\\Covid19India\\raw_data10.csv')\n",
    "df11=pd.read_csv(r'D:\\Velocity Corporate Training\\Python\\Databases\\Healthcare Project\\Covid19India\\raw_data11.csv')\n",
    "df12=pd.read_csv(r'D:\\Velocity Corporate Training\\Python\\Databases\\Healthcare Project\\Covid19India\\raw_data12.csv')\n",
    "df13=pd.read_csv(r'D:\\Velocity Corporate Training\\Python\\Databases\\Healthcare Project\\Covid19India\\raw_data13.csv')"
   ]
  },
  {
   "cell_type": "markdown",
   "metadata": {},
   "source": [
    "# Data Inspection"
   ]
  },
  {
   "cell_type": "code",
   "execution_count": 3,
   "metadata": {},
   "outputs": [
    {
     "name": "stdout",
     "output_type": "stream",
     "text": [
      "<class 'pandas.core.frame.DataFrame'>\n",
      "RangeIndex: 17364 entries, 0 to 17363\n",
      "Data columns (total 21 columns):\n",
      "Patient Number                               17306 non-null float64\n",
      "State Patient Number                         2457 non-null object\n",
      "Date Announced                               17364 non-null object\n",
      "Estimated Onset Date                         0 non-null float64\n",
      "Age Bracket                                  1670 non-null object\n",
      "Gender                                       3746 non-null object\n",
      "Detected City                                2166 non-null object\n",
      "Detected District                            14978 non-null object\n",
      "Detected State                               17363 non-null object\n",
      "State code                                   17363 non-null object\n",
      "Current Status                               17364 non-null object\n",
      "Notes                                        16046 non-null object\n",
      "Contracted from which Patient (Suspected)    1537 non-null object\n",
      "Nationality                                  1554 non-null object\n",
      "Type of transmission                         2951 non-null object\n",
      "Status Change Date                           17195 non-null object\n",
      "Source_1                                     17075 non-null object\n",
      "Source_2                                     3396 non-null object\n",
      "Source_3                                     445 non-null object\n",
      "Backup Notes                                 361 non-null object\n",
      "Num Cases                                    17364 non-null int64\n",
      "dtypes: float64(2), int64(1), object(18)\n",
      "memory usage: 2.8+ MB\n"
     ]
    }
   ],
   "source": [
    "df1.info()"
   ]
  },
  {
   "cell_type": "code",
   "execution_count": 4,
   "metadata": {},
   "outputs": [
    {
     "name": "stdout",
     "output_type": "stream",
     "text": [
      "<class 'pandas.core.frame.DataFrame'>\n",
      "RangeIndex: 10819 entries, 0 to 10818\n",
      "Data columns (total 21 columns):\n",
      "Patient Number                               10585 non-null float64\n",
      "State Patient Number                         540 non-null object\n",
      "Date Announced                               10819 non-null object\n",
      "Estimated Onset Date                         0 non-null float64\n",
      "Age Bracket                                  676 non-null float64\n",
      "Gender                                       1567 non-null object\n",
      "Detected City                                184 non-null object\n",
      "Detected District                            6220 non-null object\n",
      "Detected State                               10819 non-null object\n",
      "State code                                   10819 non-null object\n",
      "Current Status                               10819 non-null object\n",
      "Notes                                        10801 non-null object\n",
      "Contracted from which Patient (Suspected)    101 non-null object\n",
      "Nationality                                  0 non-null float64\n",
      "Type of transmission                         39 non-null object\n",
      "Status Change Date                           10585 non-null object\n",
      "Source_1                                     10432 non-null object\n",
      "Source_2                                     477 non-null object\n",
      "Source_3                                     7 non-null object\n",
      "Backup Notes                                 0 non-null float64\n",
      "Num Cases                                    10819 non-null int64\n",
      "dtypes: float64(5), int64(1), object(15)\n",
      "memory usage: 1.7+ MB\n"
     ]
    }
   ],
   "source": [
    "df2.info()"
   ]
  },
  {
   "cell_type": "code",
   "execution_count": 5,
   "metadata": {},
   "outputs": [
    {
     "name": "stdout",
     "output_type": "stream",
     "text": [
      "<class 'pandas.core.frame.DataFrame'>\n",
      "RangeIndex: 10020 entries, 0 to 10019\n",
      "Data columns (total 20 columns):\n",
      "Entry_ID                                     10020 non-null int64\n",
      "State Patient Number                         5138 non-null object\n",
      "Date Announced                               10020 non-null object\n",
      "Age Bracket                                  5183 non-null float64\n",
      "Gender                                       4654 non-null object\n",
      "Detected City                                421 non-null object\n",
      "Detected District                            9934 non-null object\n",
      "Detected State                               10015 non-null object\n",
      "State code                                   10015 non-null object\n",
      "Num Cases                                    10019 non-null float64\n",
      "Current Status                               10020 non-null object\n",
      "Contracted from which Patient (Suspected)    241 non-null object\n",
      "Notes                                        1931 non-null object\n",
      "Source_1                                     9955 non-null object\n",
      "Source_2                                     80 non-null object\n",
      "Source_3                                     31 non-null object\n",
      "Nationality                                  0 non-null float64\n",
      "Type of transmission                         0 non-null float64\n",
      "Status Change Date                           0 non-null float64\n",
      "Patient Number                               10008 non-null float64\n",
      "dtypes: float64(6), int64(1), object(13)\n",
      "memory usage: 1.5+ MB\n"
     ]
    }
   ],
   "source": [
    "df3.info()"
   ]
  },
  {
   "cell_type": "code",
   "execution_count": 6,
   "metadata": {},
   "outputs": [
    {
     "name": "stdout",
     "output_type": "stream",
     "text": [
      "<class 'pandas.core.frame.DataFrame'>\n",
      "RangeIndex: 18220 entries, 0 to 18219\n",
      "Data columns (total 20 columns):\n",
      "Entry_ID                                     18219 non-null float64\n",
      "State Patient Number                         4071 non-null object\n",
      "Date Announced                               18220 non-null object\n",
      "Age Bracket                                  11857 non-null float64\n",
      "Gender                                       11969 non-null object\n",
      "Detected City                                1022 non-null object\n",
      "Detected District                            18033 non-null object\n",
      "Detected State                               18220 non-null object\n",
      "State code                                   18220 non-null object\n",
      "Num Cases                                    18220 non-null int64\n",
      "Current Status                               18218 non-null object\n",
      "Contracted from which Patient (Suspected)    29 non-null object\n",
      "Notes                                        1708 non-null object\n",
      "Source_1                                     17849 non-null object\n",
      "Source_2                                     180 non-null object\n",
      "Source_3                                     4 non-null object\n",
      "Nationality                                  0 non-null float64\n",
      "Type of transmission                         0 non-null float64\n",
      "Status Change Date                           0 non-null float64\n",
      "Patient Number                               18212 non-null float64\n",
      "dtypes: float64(6), int64(1), object(13)\n",
      "memory usage: 2.8+ MB\n"
     ]
    }
   ],
   "source": [
    "df4.info()"
   ]
  },
  {
   "cell_type": "code",
   "execution_count": 7,
   "metadata": {},
   "outputs": [
    {
     "name": "stdout",
     "output_type": "stream",
     "text": [
      "<class 'pandas.core.frame.DataFrame'>\n",
      "RangeIndex: 20438 entries, 0 to 20437\n",
      "Data columns (total 20 columns):\n",
      "Entry_ID                                     20437 non-null float64\n",
      "State Patient Number                         3349 non-null object\n",
      "Date Announced                               20438 non-null object\n",
      "Age Bracket                                  11365 non-null float64\n",
      "Gender                                       11472 non-null object\n",
      "Detected City                                1411 non-null object\n",
      "Detected District                            20184 non-null object\n",
      "Detected State                               20436 non-null object\n",
      "State code                                   20436 non-null object\n",
      "Num Cases                                    20436 non-null float64\n",
      "Current Status                               20438 non-null object\n",
      "Contracted from which Patient (Suspected)    14 non-null object\n",
      "Notes                                        3129 non-null object\n",
      "Source_1                                     20094 non-null object\n",
      "Source_2                                     330 non-null object\n",
      "Source_3                                     7 non-null object\n",
      "Nationality                                  0 non-null float64\n",
      "Type of transmission                         0 non-null float64\n",
      "Status Change Date                           0 non-null float64\n",
      "Patient Number                               20259 non-null float64\n",
      "dtypes: float64(7), object(13)\n",
      "memory usage: 3.1+ MB\n"
     ]
    }
   ],
   "source": [
    "df5.info()"
   ]
  },
  {
   "cell_type": "code",
   "execution_count": 8,
   "metadata": {},
   "outputs": [
    {
     "name": "stdout",
     "output_type": "stream",
     "text": [
      "<class 'pandas.core.frame.DataFrame'>\n",
      "RangeIndex: 23423 entries, 0 to 23422\n",
      "Data columns (total 20 columns):\n",
      "Entry_ID                                     23423 non-null int64\n",
      "State Patient Number                         7698 non-null object\n",
      "Date Announced                               23423 non-null object\n",
      "Age Bracket                                  7090 non-null object\n",
      "Gender                                       7140 non-null object\n",
      "Detected City                                2646 non-null object\n",
      "Detected District                            23050 non-null object\n",
      "Detected State                               23422 non-null object\n",
      "State code                                   23422 non-null object\n",
      "Num Cases                                    23423 non-null int64\n",
      "Current Status                               23423 non-null object\n",
      "Contracted from which Patient (Suspected)    1 non-null object\n",
      "Notes                                        4775 non-null object\n",
      "Source_1                                     23055 non-null object\n",
      "Source_2                                     629 non-null object\n",
      "Source_3                                     1 non-null object\n",
      "Nationality                                  0 non-null float64\n",
      "Type of transmission                         0 non-null float64\n",
      "Status Change Date                           0 non-null float64\n",
      "Patient Number                               23423 non-null int64\n",
      "dtypes: float64(3), int64(3), object(14)\n",
      "memory usage: 3.6+ MB\n"
     ]
    }
   ],
   "source": [
    "df6.info()"
   ]
  },
  {
   "cell_type": "code",
   "execution_count": 9,
   "metadata": {},
   "outputs": [
    {
     "name": "stdout",
     "output_type": "stream",
     "text": [
      "<class 'pandas.core.frame.DataFrame'>\n",
      "RangeIndex: 22770 entries, 0 to 22769\n",
      "Data columns (total 20 columns):\n",
      "Entry_ID                                     22770 non-null int64\n",
      "State Patient Number                         9793 non-null object\n",
      "Date Announced                               22770 non-null object\n",
      "Age Bracket                                  9634 non-null object\n",
      "Gender                                       9677 non-null object\n",
      "Detected City                                2327 non-null object\n",
      "Detected District                            22496 non-null object\n",
      "Detected State                               22770 non-null object\n",
      "State code                                   22770 non-null object\n",
      "Num Cases                                    22770 non-null int64\n",
      "Current Status                               22770 non-null object\n",
      "Contracted from which Patient (Suspected)    0 non-null float64\n",
      "Notes                                        6527 non-null object\n",
      "Source_1                                     21336 non-null object\n",
      "Source_2                                     8 non-null object\n",
      "Source_3                                     0 non-null float64\n",
      "Nationality                                  0 non-null float64\n",
      "Type of transmission                         0 non-null float64\n",
      "Status Change Date                           0 non-null float64\n",
      "Patient Number                               0 non-null float64\n",
      "dtypes: float64(6), int64(2), object(12)\n",
      "memory usage: 3.5+ MB\n"
     ]
    }
   ],
   "source": [
    "df7.info()"
   ]
  },
  {
   "cell_type": "code",
   "execution_count": 10,
   "metadata": {},
   "outputs": [
    {
     "name": "stdout",
     "output_type": "stream",
     "text": [
      "<class 'pandas.core.frame.DataFrame'>\n",
      "RangeIndex: 22795 entries, 0 to 22794\n",
      "Data columns (total 20 columns):\n",
      "Entry_ID                                     22795 non-null int64\n",
      "State Patient Number                         14924 non-null object\n",
      "Date Announced                               22795 non-null object\n",
      "Age Bracket                                  12538 non-null float64\n",
      "Gender                                       12583 non-null object\n",
      "Detected City                                772 non-null object\n",
      "Detected District                            22556 non-null object\n",
      "Detected State                               22795 non-null object\n",
      "State code                                   22795 non-null object\n",
      "Num Cases                                    22795 non-null int64\n",
      "Current Status                               22795 non-null object\n",
      "Contracted from which Patient (Suspected)    0 non-null float64\n",
      "Notes                                        12408 non-null object\n",
      "Source_1                                     22618 non-null object\n",
      "Source_2                                     97 non-null object\n",
      "Source_3                                     0 non-null float64\n",
      "Nationality                                  0 non-null float64\n",
      "Type of transmission                         0 non-null float64\n",
      "Status Change Date                           0 non-null float64\n",
      "Patient Number                               0 non-null float64\n",
      "dtypes: float64(7), int64(2), object(11)\n",
      "memory usage: 3.5+ MB\n"
     ]
    }
   ],
   "source": [
    "df8.info()"
   ]
  },
  {
   "cell_type": "code",
   "execution_count": 11,
   "metadata": {},
   "outputs": [
    {
     "name": "stdout",
     "output_type": "stream",
     "text": [
      "<class 'pandas.core.frame.DataFrame'>\n",
      "RangeIndex: 26895 entries, 0 to 26894\n",
      "Data columns (total 20 columns):\n",
      "Entry_ID                                     26895 non-null int64\n",
      "State Patient Number                         20257 non-null object\n",
      "Date Announced                               26895 non-null object\n",
      "Age Bracket                                  15309 non-null object\n",
      "Gender                                       15311 non-null object\n",
      "Detected City                                145 non-null object\n",
      "Detected District                            26737 non-null object\n",
      "Detected State                               26895 non-null object\n",
      "State code                                   26895 non-null object\n",
      "Num Cases                                    26895 non-null int64\n",
      "Current Status                               26895 non-null object\n",
      "Contracted from which Patient (Suspected)    0 non-null float64\n",
      "Notes                                        15685 non-null object\n",
      "Source_1                                     26858 non-null object\n",
      "Source_2                                     127 non-null object\n",
      "Source_3                                     0 non-null float64\n",
      "Nationality                                  0 non-null float64\n",
      "Type of transmission                         0 non-null float64\n",
      "Status Change Date                           0 non-null float64\n",
      "Patient Number                               0 non-null float64\n",
      "dtypes: float64(6), int64(2), object(12)\n",
      "memory usage: 4.1+ MB\n"
     ]
    }
   ],
   "source": [
    "df9.info()"
   ]
  },
  {
   "cell_type": "code",
   "execution_count": 12,
   "metadata": {},
   "outputs": [
    {
     "name": "stdout",
     "output_type": "stream",
     "text": [
      "<class 'pandas.core.frame.DataFrame'>\n",
      "RangeIndex: 23110 entries, 0 to 23109\n",
      "Data columns (total 20 columns):\n",
      "Entry_ID                                     23110 non-null int64\n",
      "State Patient Number                         18436 non-null object\n",
      "Date Announced                               23110 non-null object\n",
      "Age Bracket                                  14096 non-null float64\n",
      "Gender                                       14097 non-null object\n",
      "Detected City                                138 non-null object\n",
      "Detected District                            23008 non-null object\n",
      "Detected State                               23110 non-null object\n",
      "State code                                   23110 non-null object\n",
      "Num Cases                                    23110 non-null int64\n",
      "Current Status                               23110 non-null object\n",
      "Contracted from which Patient (Suspected)    0 non-null float64\n",
      "Notes                                        14329 non-null object\n",
      "Source_1                                     23082 non-null object\n",
      "Source_2                                     65 non-null object\n",
      "Source_3                                     0 non-null float64\n",
      "Nationality                                  0 non-null float64\n",
      "Type of transmission                         0 non-null float64\n",
      "Status Change Date                           0 non-null float64\n",
      "Patient Number                               0 non-null float64\n",
      "dtypes: float64(7), int64(2), object(11)\n",
      "memory usage: 3.5+ MB\n"
     ]
    }
   ],
   "source": [
    "df10.info()"
   ]
  },
  {
   "cell_type": "code",
   "execution_count": 13,
   "metadata": {},
   "outputs": [
    {
     "name": "stdout",
     "output_type": "stream",
     "text": [
      "<class 'pandas.core.frame.DataFrame'>\n",
      "RangeIndex: 29045 entries, 0 to 29044\n",
      "Data columns (total 20 columns):\n",
      "Entry_ID                                     29045 non-null int64\n",
      "State Patient Number                         22808 non-null object\n",
      "Date Announced                               29044 non-null object\n",
      "Age Bracket                                  16552 non-null object\n",
      "Gender                                       16548 non-null object\n",
      "Detected City                                183 non-null object\n",
      "Detected District                            28894 non-null object\n",
      "Detected State                               29044 non-null object\n",
      "State code                                   29044 non-null object\n",
      "Num Cases                                    29044 non-null float64\n",
      "Current Status                               29044 non-null object\n",
      "Contracted from which Patient (Suspected)    1 non-null object\n",
      "Notes                                        16775 non-null object\n",
      "Source_1                                     29031 non-null object\n",
      "Source_2                                     19 non-null object\n",
      "Source_3                                     0 non-null float64\n",
      "Nationality                                  0 non-null float64\n",
      "Type of transmission                         0 non-null float64\n",
      "Status Change Date                           0 non-null float64\n",
      "Patient Number                               0 non-null float64\n",
      "dtypes: float64(6), int64(1), object(13)\n",
      "memory usage: 4.4+ MB\n"
     ]
    }
   ],
   "source": [
    "df11.info()"
   ]
  },
  {
   "cell_type": "code",
   "execution_count": 14,
   "metadata": {},
   "outputs": [
    {
     "name": "stdout",
     "output_type": "stream",
     "text": [
      "<class 'pandas.core.frame.DataFrame'>\n",
      "RangeIndex: 22334 entries, 0 to 22333\n",
      "Data columns (total 20 columns):\n",
      "Entry_ID                                     22334 non-null int64\n",
      "State Patient Number                         1288 non-null object\n",
      "Date Announced                               22334 non-null object\n",
      "Age Bracket                                  2060 non-null object\n",
      "Gender                                       2036 non-null object\n",
      "Detected City                                637 non-null object\n",
      "Detected District                            21981 non-null object\n",
      "Detected State                               22334 non-null object\n",
      "State code                                   22334 non-null object\n",
      "Num Cases                                    22334 non-null int64\n",
      "Current Status                               22334 non-null object\n",
      "Contracted from which Patient (Suspected)    0 non-null float64\n",
      "Notes                                        3589 non-null object\n",
      "Source_1                                     22253 non-null object\n",
      "Source_2                                     857 non-null object\n",
      "Source_3                                     103 non-null object\n",
      "Nationality                                  0 non-null float64\n",
      "Type of transmission                         0 non-null float64\n",
      "Status Change Date                           0 non-null float64\n",
      "Patient Number                               0 non-null float64\n",
      "dtypes: float64(5), int64(2), object(13)\n",
      "memory usage: 3.4+ MB\n"
     ]
    }
   ],
   "source": [
    "df12.info()"
   ]
  },
  {
   "cell_type": "code",
   "execution_count": 15,
   "metadata": {},
   "outputs": [
    {
     "name": "stdout",
     "output_type": "stream",
     "text": [
      "<class 'pandas.core.frame.DataFrame'>\n",
      "RangeIndex: 3189 entries, 0 to 3188\n",
      "Data columns (total 20 columns):\n",
      "Entry_ID                                     3189 non-null int64\n",
      "State Patient Number                         101 non-null object\n",
      "Date Announced                               1743 non-null object\n",
      "Age Bracket                                  123 non-null float64\n",
      "Gender                                       123 non-null object\n",
      "Detected City                                12 non-null object\n",
      "Detected District                            1674 non-null object\n",
      "Detected State                               1699 non-null object\n",
      "State code                                   1699 non-null object\n",
      "Num Cases                                    1699 non-null float64\n",
      "Current Status                               1699 non-null object\n",
      "Contracted from which Patient (Suspected)    0 non-null float64\n",
      "Notes                                        257 non-null object\n",
      "Source_1                                     1699 non-null object\n",
      "Source_2                                     125 non-null object\n",
      "Source_3                                     16 non-null object\n",
      "Nationality                                  0 non-null float64\n",
      "Type of transmission                         0 non-null float64\n",
      "Status Change Date                           0 non-null float64\n",
      "Patient Number                               0 non-null float64\n",
      "dtypes: float64(7), int64(1), object(12)\n",
      "memory usage: 498.4+ KB\n"
     ]
    }
   ],
   "source": [
    "df13.info()"
   ]
  },
  {
   "cell_type": "markdown",
   "metadata": {},
   "source": [
    "# Ckecking of Columns"
   ]
  },
  {
   "cell_type": "code",
   "execution_count": 16,
   "metadata": {},
   "outputs": [
    {
     "data": {
      "text/plain": [
       "Index(['Patient Number', 'State Patient Number', 'Date Announced',\n",
       "       'Estimated Onset Date', 'Age Bracket', 'Gender', 'Detected City',\n",
       "       'Detected District', 'Detected State', 'State code', 'Current Status',\n",
       "       'Notes', 'Contracted from which Patient (Suspected)', 'Nationality',\n",
       "       'Type of transmission', 'Status Change Date', 'Source_1', 'Source_2',\n",
       "       'Source_3', 'Backup Notes', 'Num Cases'],\n",
       "      dtype='object')"
      ]
     },
     "execution_count": 16,
     "metadata": {},
     "output_type": "execute_result"
    }
   ],
   "source": [
    "df1.columns"
   ]
  },
  {
   "cell_type": "code",
   "execution_count": 17,
   "metadata": {},
   "outputs": [
    {
     "data": {
      "text/plain": [
       "Index(['Patient Number', 'State Patient Number', 'Date Announced',\n",
       "       'Estimated Onset Date', 'Age Bracket', 'Gender', 'Detected City',\n",
       "       'Detected District', 'Detected State', 'State code', 'Current Status',\n",
       "       'Notes', 'Contracted from which Patient (Suspected)', 'Nationality',\n",
       "       'Type of transmission', 'Status Change Date', 'Source_1', 'Source_2',\n",
       "       'Source_3', 'Backup Notes', 'Num Cases'],\n",
       "      dtype='object')"
      ]
     },
     "execution_count": 17,
     "metadata": {},
     "output_type": "execute_result"
    }
   ],
   "source": [
    "df2.columns"
   ]
  },
  {
   "cell_type": "code",
   "execution_count": 18,
   "metadata": {},
   "outputs": [
    {
     "data": {
      "text/plain": [
       "Index(['Entry_ID', 'State Patient Number', 'Date Announced', 'Age Bracket',\n",
       "       'Gender', 'Detected City', 'Detected District', 'Detected State',\n",
       "       'State code', 'Num Cases', 'Current Status',\n",
       "       'Contracted from which Patient (Suspected)', 'Notes', 'Source_1',\n",
       "       'Source_2', 'Source_3', 'Nationality', 'Type of transmission',\n",
       "       'Status Change Date', 'Patient Number'],\n",
       "      dtype='object')"
      ]
     },
     "execution_count": 18,
     "metadata": {},
     "output_type": "execute_result"
    }
   ],
   "source": [
    "df3.columns"
   ]
  },
  {
   "cell_type": "code",
   "execution_count": 19,
   "metadata": {},
   "outputs": [
    {
     "data": {
      "text/plain": [
       "Index(['Entry_ID', 'State Patient Number', 'Date Announced', 'Age Bracket',\n",
       "       'Gender', 'Detected City', 'Detected District', 'Detected State',\n",
       "       'State code', 'Num Cases', 'Current Status',\n",
       "       'Contracted from which Patient (Suspected)', 'Notes', 'Source_1',\n",
       "       'Source_2', 'Source_3', 'Nationality', 'Type of transmission',\n",
       "       'Status Change Date', 'Patient Number'],\n",
       "      dtype='object')"
      ]
     },
     "execution_count": 19,
     "metadata": {},
     "output_type": "execute_result"
    }
   ],
   "source": [
    "df4.columns"
   ]
  },
  {
   "cell_type": "code",
   "execution_count": 20,
   "metadata": {},
   "outputs": [
    {
     "data": {
      "text/plain": [
       "Index(['Entry_ID', 'State Patient Number', 'Date Announced', 'Age Bracket',\n",
       "       'Gender', 'Detected City', 'Detected District', 'Detected State',\n",
       "       'State code', 'Num Cases', 'Current Status',\n",
       "       'Contracted from which Patient (Suspected)', 'Notes', 'Source_1',\n",
       "       'Source_2', 'Source_3', 'Nationality', 'Type of transmission',\n",
       "       'Status Change Date', 'Patient Number'],\n",
       "      dtype='object')"
      ]
     },
     "execution_count": 20,
     "metadata": {},
     "output_type": "execute_result"
    }
   ],
   "source": [
    "df5.columns"
   ]
  },
  {
   "cell_type": "code",
   "execution_count": 21,
   "metadata": {},
   "outputs": [
    {
     "data": {
      "text/plain": [
       "Index(['Entry_ID', 'State Patient Number', 'Date Announced', 'Age Bracket',\n",
       "       'Gender', 'Detected City', 'Detected District', 'Detected State',\n",
       "       'State code', 'Num Cases', 'Current Status',\n",
       "       'Contracted from which Patient (Suspected)', 'Notes', 'Source_1',\n",
       "       'Source_2', 'Source_3', 'Nationality', 'Type of transmission',\n",
       "       'Status Change Date', 'Patient Number'],\n",
       "      dtype='object')"
      ]
     },
     "execution_count": 21,
     "metadata": {},
     "output_type": "execute_result"
    }
   ],
   "source": [
    "df6.columns"
   ]
  },
  {
   "cell_type": "code",
   "execution_count": 22,
   "metadata": {},
   "outputs": [
    {
     "data": {
      "text/plain": [
       "Index(['Entry_ID', 'State Patient Number', 'Date Announced', 'Age Bracket',\n",
       "       'Gender', 'Detected City', 'Detected District', 'Detected State',\n",
       "       'State code', 'Num Cases', 'Current Status',\n",
       "       'Contracted from which Patient (Suspected)', 'Notes', 'Source_1',\n",
       "       'Source_2', 'Source_3', 'Nationality', 'Type of transmission',\n",
       "       'Status Change Date', 'Patient Number'],\n",
       "      dtype='object')"
      ]
     },
     "execution_count": 22,
     "metadata": {},
     "output_type": "execute_result"
    }
   ],
   "source": [
    "df7.columns"
   ]
  },
  {
   "cell_type": "code",
   "execution_count": 23,
   "metadata": {},
   "outputs": [
    {
     "data": {
      "text/plain": [
       "Index(['Entry_ID', 'State Patient Number', 'Date Announced', 'Age Bracket',\n",
       "       'Gender', 'Detected City', 'Detected District', 'Detected State',\n",
       "       'State code', 'Num Cases', 'Current Status',\n",
       "       'Contracted from which Patient (Suspected)', 'Notes', 'Source_1',\n",
       "       'Source_2', 'Source_3', 'Nationality', 'Type of transmission',\n",
       "       'Status Change Date', 'Patient Number'],\n",
       "      dtype='object')"
      ]
     },
     "execution_count": 23,
     "metadata": {},
     "output_type": "execute_result"
    }
   ],
   "source": [
    "df8.columns"
   ]
  },
  {
   "cell_type": "code",
   "execution_count": 24,
   "metadata": {},
   "outputs": [
    {
     "data": {
      "text/plain": [
       "Index(['Entry_ID', 'State Patient Number', 'Date Announced', 'Age Bracket',\n",
       "       'Gender', 'Detected City', 'Detected District', 'Detected State',\n",
       "       'State code', 'Num Cases', 'Current Status',\n",
       "       'Contracted from which Patient (Suspected)', 'Notes', 'Source_1',\n",
       "       'Source_2', 'Source_3', 'Nationality', 'Type of transmission',\n",
       "       'Status Change Date', 'Patient Number'],\n",
       "      dtype='object')"
      ]
     },
     "execution_count": 24,
     "metadata": {},
     "output_type": "execute_result"
    }
   ],
   "source": [
    "df9.columns"
   ]
  },
  {
   "cell_type": "code",
   "execution_count": 25,
   "metadata": {},
   "outputs": [
    {
     "data": {
      "text/plain": [
       "Index(['Entry_ID', 'State Patient Number', 'Date Announced', 'Age Bracket',\n",
       "       'Gender', 'Detected City', 'Detected District', 'Detected State',\n",
       "       'State code', 'Num Cases', 'Current Status',\n",
       "       'Contracted from which Patient (Suspected)', 'Notes', 'Source_1',\n",
       "       'Source_2', 'Source_3', 'Nationality', 'Type of transmission',\n",
       "       'Status Change Date', 'Patient Number'],\n",
       "      dtype='object')"
      ]
     },
     "execution_count": 25,
     "metadata": {},
     "output_type": "execute_result"
    }
   ],
   "source": [
    "df10.columns"
   ]
  },
  {
   "cell_type": "code",
   "execution_count": 26,
   "metadata": {},
   "outputs": [
    {
     "data": {
      "text/plain": [
       "Index(['Entry_ID', 'State Patient Number', 'Date Announced', 'Age Bracket',\n",
       "       'Gender', 'Detected City', 'Detected District', 'Detected State',\n",
       "       'State code', 'Num Cases', 'Current Status',\n",
       "       'Contracted from which Patient (Suspected)', 'Notes', 'Source_1',\n",
       "       'Source_2', 'Source_3', 'Nationality', 'Type of transmission',\n",
       "       'Status Change Date', 'Patient Number'],\n",
       "      dtype='object')"
      ]
     },
     "execution_count": 26,
     "metadata": {},
     "output_type": "execute_result"
    }
   ],
   "source": [
    "df11.columns"
   ]
  },
  {
   "cell_type": "code",
   "execution_count": 27,
   "metadata": {},
   "outputs": [
    {
     "data": {
      "text/plain": [
       "Index(['Entry_ID', 'State Patient Number', 'Date Announced', 'Age Bracket',\n",
       "       'Gender', 'Detected City', 'Detected District', 'Detected State',\n",
       "       'State code', 'Num Cases', 'Current Status',\n",
       "       'Contracted from which Patient (Suspected)', 'Notes', 'Source_1',\n",
       "       'Source_2', 'Source_3', 'Nationality', 'Type of transmission',\n",
       "       'Status Change Date', 'Patient Number'],\n",
       "      dtype='object')"
      ]
     },
     "execution_count": 27,
     "metadata": {},
     "output_type": "execute_result"
    }
   ],
   "source": [
    "df12.columns"
   ]
  },
  {
   "cell_type": "code",
   "execution_count": 28,
   "metadata": {},
   "outputs": [
    {
     "data": {
      "text/plain": [
       "Index(['Entry_ID', 'State Patient Number', 'Date Announced', 'Age Bracket',\n",
       "       'Gender', 'Detected City', 'Detected District', 'Detected State',\n",
       "       'State code', 'Num Cases', 'Current Status',\n",
       "       'Contracted from which Patient (Suspected)', 'Notes', 'Source_1',\n",
       "       'Source_2', 'Source_3', 'Nationality', 'Type of transmission',\n",
       "       'Status Change Date', 'Patient Number'],\n",
       "      dtype='object')"
      ]
     },
     "execution_count": 28,
     "metadata": {},
     "output_type": "execute_result"
    }
   ],
   "source": [
    "df13.columns"
   ]
  },
  {
   "cell_type": "markdown",
   "metadata": {},
   "source": [
    "# Matching of Columns"
   ]
  },
  {
   "cell_type": "code",
   "execution_count": 29,
   "metadata": {},
   "outputs": [],
   "source": [
    "df1=df1.rename(columns={'Num cases':'Num Cases'})\n",
    "df2=df2.rename(columns={'Num cases':'Num Cases'})"
   ]
  },
  {
   "cell_type": "code",
   "execution_count": 30,
   "metadata": {},
   "outputs": [
    {
     "data": {
      "text/plain": [
       "Index(['Patient Number', 'State Patient Number', 'Date Announced',\n",
       "       'Estimated Onset Date', 'Age Bracket', 'Gender', 'Detected City',\n",
       "       'Detected District', 'Detected State', 'State code', 'Current Status',\n",
       "       'Notes', 'Contracted from which Patient (Suspected)', 'Nationality',\n",
       "       'Type of transmission', 'Status Change Date', 'Source_1', 'Source_2',\n",
       "       'Source_3', 'Backup Notes', 'Num Cases'],\n",
       "      dtype='object')"
      ]
     },
     "execution_count": 30,
     "metadata": {},
     "output_type": "execute_result"
    }
   ],
   "source": [
    "df1.columns"
   ]
  },
  {
   "cell_type": "code",
   "execution_count": 31,
   "metadata": {},
   "outputs": [
    {
     "data": {
      "text/plain": [
       "Index(['Patient Number', 'State Patient Number', 'Date Announced',\n",
       "       'Estimated Onset Date', 'Age Bracket', 'Gender', 'Detected City',\n",
       "       'Detected District', 'Detected State', 'State code', 'Current Status',\n",
       "       'Notes', 'Contracted from which Patient (Suspected)', 'Nationality',\n",
       "       'Type of transmission', 'Status Change Date', 'Source_1', 'Source_2',\n",
       "       'Source_3', 'Backup Notes', 'Num Cases'],\n",
       "      dtype='object')"
      ]
     },
     "execution_count": 31,
     "metadata": {},
     "output_type": "execute_result"
    }
   ],
   "source": [
    "df2.columns"
   ]
  },
  {
   "cell_type": "markdown",
   "metadata": {},
   "source": [
    "# Retain Necessary Columns"
   ]
  },
  {
   "cell_type": "code",
   "execution_count": 32,
   "metadata": {},
   "outputs": [],
   "source": [
    "df1=df1.loc[:,['Num Cases','Date Announced','Age Bracket', 'Gender', 'Detected City','Detected District', 'Detected State','Current Status']]\n",
    "df2=df2.loc[:,['Num Cases','Date Announced','Age Bracket', 'Gender', 'Detected City','Detected District', 'Detected State','Current Status']]\n",
    "df3=df3.loc[:,['Num Cases','Date Announced','Age Bracket', 'Gender', 'Detected City','Detected District', 'Detected State','Current Status']]\n",
    "df4=df4.loc[:,['Num Cases','Date Announced','Age Bracket', 'Gender', 'Detected City','Detected District', 'Detected State','Current Status']]\n",
    "df5=df5.loc[:,['Num Cases','Date Announced','Age Bracket', 'Gender', 'Detected City','Detected District', 'Detected State','Current Status']]\n",
    "df6=df6.loc[:,['Num Cases','Date Announced','Age Bracket', 'Gender', 'Detected City','Detected District', 'Detected State','Current Status']]\n",
    "df7=df7.loc[:,['Num Cases','Date Announced','Age Bracket', 'Gender', 'Detected City','Detected District', 'Detected State','Current Status']]\n",
    "df8=df8.loc[:,['Num Cases','Date Announced','Age Bracket', 'Gender', 'Detected City','Detected District', 'Detected State','Current Status']]\n",
    "df9=df9.loc[:,['Num Cases','Date Announced','Age Bracket', 'Gender', 'Detected City','Detected District', 'Detected State','Current Status']]\n",
    "df10=df10.loc[:,['Num Cases','Date Announced','Age Bracket', 'Gender', 'Detected City','Detected District', 'Detected State','Current Status']]\n",
    "df11=df11.loc[:,['Num Cases','Date Announced','Age Bracket', 'Gender', 'Detected City','Detected District', 'Detected State','Current Status']]\n",
    "df12=df12.loc[:,['Num Cases','Date Announced','Age Bracket', 'Gender', 'Detected City','Detected District', 'Detected State','Current Status']]\n",
    "df13=df13.loc[:,['Num Cases','Date Announced','Age Bracket', 'Gender', 'Detected City','Detected District', 'Detected State','Current Status']]"
   ]
  },
  {
   "cell_type": "markdown",
   "metadata": {},
   "source": [
    "# Merge All Dataframes"
   ]
  },
  {
   "cell_type": "code",
   "execution_count": 33,
   "metadata": {},
   "outputs": [
    {
     "data": {
      "text/html": [
       "<div>\n",
       "<style scoped>\n",
       "    .dataframe tbody tr th:only-of-type {\n",
       "        vertical-align: middle;\n",
       "    }\n",
       "\n",
       "    .dataframe tbody tr th {\n",
       "        vertical-align: top;\n",
       "    }\n",
       "\n",
       "    .dataframe thead th {\n",
       "        text-align: right;\n",
       "    }\n",
       "</style>\n",
       "<table border=\"1\" class=\"dataframe\">\n",
       "  <thead>\n",
       "    <tr style=\"text-align: right;\">\n",
       "      <th></th>\n",
       "      <th>Num Cases</th>\n",
       "      <th>Date Announced</th>\n",
       "      <th>Age Bracket</th>\n",
       "      <th>Gender</th>\n",
       "      <th>Detected City</th>\n",
       "      <th>Detected District</th>\n",
       "      <th>Detected State</th>\n",
       "      <th>Current Status</th>\n",
       "    </tr>\n",
       "  </thead>\n",
       "  <tbody>\n",
       "    <tr>\n",
       "      <th>0</th>\n",
       "      <td>1.0</td>\n",
       "      <td>30/01/2020</td>\n",
       "      <td>20</td>\n",
       "      <td>F</td>\n",
       "      <td>Thrissur</td>\n",
       "      <td>Thrissur</td>\n",
       "      <td>Kerala</td>\n",
       "      <td>Recovered</td>\n",
       "    </tr>\n",
       "    <tr>\n",
       "      <th>1</th>\n",
       "      <td>1.0</td>\n",
       "      <td>02/02/2020</td>\n",
       "      <td>NaN</td>\n",
       "      <td>NaN</td>\n",
       "      <td>Alappuzha</td>\n",
       "      <td>Alappuzha</td>\n",
       "      <td>Kerala</td>\n",
       "      <td>Recovered</td>\n",
       "    </tr>\n",
       "    <tr>\n",
       "      <th>2</th>\n",
       "      <td>1.0</td>\n",
       "      <td>03/02/2020</td>\n",
       "      <td>NaN</td>\n",
       "      <td>NaN</td>\n",
       "      <td>Kasaragod</td>\n",
       "      <td>Kasaragod</td>\n",
       "      <td>Kerala</td>\n",
       "      <td>Recovered</td>\n",
       "    </tr>\n",
       "    <tr>\n",
       "      <th>3</th>\n",
       "      <td>1.0</td>\n",
       "      <td>02/03/2020</td>\n",
       "      <td>45</td>\n",
       "      <td>M</td>\n",
       "      <td>East Delhi (Mayur Vihar)</td>\n",
       "      <td>East Delhi</td>\n",
       "      <td>Delhi</td>\n",
       "      <td>Recovered</td>\n",
       "    </tr>\n",
       "    <tr>\n",
       "      <th>4</th>\n",
       "      <td>1.0</td>\n",
       "      <td>02/03/2020</td>\n",
       "      <td>24</td>\n",
       "      <td>M</td>\n",
       "      <td>Hyderabad</td>\n",
       "      <td>Hyderabad</td>\n",
       "      <td>Telangana</td>\n",
       "      <td>Recovered</td>\n",
       "    </tr>\n",
       "  </tbody>\n",
       "</table>\n",
       "</div>"
      ],
      "text/plain": [
       "   Num Cases Date Announced Age Bracket Gender             Detected City  \\\n",
       "0        1.0     30/01/2020          20      F                  Thrissur   \n",
       "1        1.0     02/02/2020         NaN    NaN                 Alappuzha   \n",
       "2        1.0     03/02/2020         NaN    NaN                 Kasaragod   \n",
       "3        1.0     02/03/2020          45      M  East Delhi (Mayur Vihar)   \n",
       "4        1.0     02/03/2020          24      M                 Hyderabad   \n",
       "\n",
       "  Detected District Detected State Current Status  \n",
       "0          Thrissur         Kerala      Recovered  \n",
       "1         Alappuzha         Kerala      Recovered  \n",
       "2         Kasaragod         Kerala      Recovered  \n",
       "3        East Delhi          Delhi      Recovered  \n",
       "4         Hyderabad      Telangana      Recovered  "
      ]
     },
     "execution_count": 33,
     "metadata": {},
     "output_type": "execute_result"
    }
   ],
   "source": [
    "df=df1.append([df2,df3,df4,df5,df6,df7,df8,df9,df10,df11,df12,df13])\n",
    "df.head()"
   ]
  },
  {
   "cell_type": "code",
   "execution_count": 34,
   "metadata": {},
   "outputs": [
    {
     "data": {
      "text/html": [
       "<div>\n",
       "<style scoped>\n",
       "    .dataframe tbody tr th:only-of-type {\n",
       "        vertical-align: middle;\n",
       "    }\n",
       "\n",
       "    .dataframe tbody tr th {\n",
       "        vertical-align: top;\n",
       "    }\n",
       "\n",
       "    .dataframe thead th {\n",
       "        text-align: right;\n",
       "    }\n",
       "</style>\n",
       "<table border=\"1\" class=\"dataframe\">\n",
       "  <thead>\n",
       "    <tr style=\"text-align: right;\">\n",
       "      <th></th>\n",
       "      <th>Num Cases</th>\n",
       "      <th>Date Announced</th>\n",
       "      <th>Age Bracket</th>\n",
       "      <th>Gender</th>\n",
       "      <th>Detected City</th>\n",
       "      <th>Detected District</th>\n",
       "      <th>Detected State</th>\n",
       "      <th>Current Status</th>\n",
       "    </tr>\n",
       "  </thead>\n",
       "  <tbody>\n",
       "    <tr>\n",
       "      <th>3184</th>\n",
       "      <td>NaN</td>\n",
       "      <td>NaN</td>\n",
       "      <td>NaN</td>\n",
       "      <td>NaN</td>\n",
       "      <td>NaN</td>\n",
       "      <td>NaN</td>\n",
       "      <td>NaN</td>\n",
       "      <td>NaN</td>\n",
       "    </tr>\n",
       "    <tr>\n",
       "      <th>3185</th>\n",
       "      <td>NaN</td>\n",
       "      <td>NaN</td>\n",
       "      <td>NaN</td>\n",
       "      <td>NaN</td>\n",
       "      <td>NaN</td>\n",
       "      <td>NaN</td>\n",
       "      <td>NaN</td>\n",
       "      <td>NaN</td>\n",
       "    </tr>\n",
       "    <tr>\n",
       "      <th>3186</th>\n",
       "      <td>NaN</td>\n",
       "      <td>NaN</td>\n",
       "      <td>NaN</td>\n",
       "      <td>NaN</td>\n",
       "      <td>NaN</td>\n",
       "      <td>NaN</td>\n",
       "      <td>NaN</td>\n",
       "      <td>NaN</td>\n",
       "    </tr>\n",
       "    <tr>\n",
       "      <th>3187</th>\n",
       "      <td>NaN</td>\n",
       "      <td>NaN</td>\n",
       "      <td>NaN</td>\n",
       "      <td>NaN</td>\n",
       "      <td>NaN</td>\n",
       "      <td>NaN</td>\n",
       "      <td>NaN</td>\n",
       "      <td>NaN</td>\n",
       "    </tr>\n",
       "    <tr>\n",
       "      <th>3188</th>\n",
       "      <td>NaN</td>\n",
       "      <td>NaN</td>\n",
       "      <td>NaN</td>\n",
       "      <td>NaN</td>\n",
       "      <td>NaN</td>\n",
       "      <td>NaN</td>\n",
       "      <td>NaN</td>\n",
       "      <td>NaN</td>\n",
       "    </tr>\n",
       "  </tbody>\n",
       "</table>\n",
       "</div>"
      ],
      "text/plain": [
       "      Num Cases Date Announced Age Bracket Gender Detected City  \\\n",
       "3184        NaN            NaN         NaN    NaN           NaN   \n",
       "3185        NaN            NaN         NaN    NaN           NaN   \n",
       "3186        NaN            NaN         NaN    NaN           NaN   \n",
       "3187        NaN            NaN         NaN    NaN           NaN   \n",
       "3188        NaN            NaN         NaN    NaN           NaN   \n",
       "\n",
       "     Detected District Detected State Current Status  \n",
       "3184               NaN            NaN            NaN  \n",
       "3185               NaN            NaN            NaN  \n",
       "3186               NaN            NaN            NaN  \n",
       "3187               NaN            NaN            NaN  \n",
       "3188               NaN            NaN            NaN  "
      ]
     },
     "execution_count": 34,
     "metadata": {},
     "output_type": "execute_result"
    }
   ],
   "source": [
    "df.tail()"
   ]
  },
  {
   "cell_type": "code",
   "execution_count": 35,
   "metadata": {},
   "outputs": [
    {
     "name": "stdout",
     "output_type": "stream",
     "text": [
      "<class 'pandas.core.frame.DataFrame'>\n",
      "Int64Index: 250422 entries, 0 to 3188\n",
      "Data columns (total 8 columns):\n",
      "Num Cases            248928 non-null float64\n",
      "Date Announced       248975 non-null object\n",
      "Age Bracket          108153 non-null object\n",
      "Gender               110923 non-null object\n",
      "Detected City        12064 non-null object\n",
      "Detected District    239745 non-null object\n",
      "Detected State       248922 non-null object\n",
      "Current Status       248929 non-null object\n",
      "dtypes: float64(1), object(7)\n",
      "memory usage: 17.2+ MB\n"
     ]
    }
   ],
   "source": [
    "df.info()"
   ]
  },
  {
   "cell_type": "markdown",
   "metadata": {},
   "source": [
    "# Seperation of Day, Month, Year"
   ]
  },
  {
   "cell_type": "code",
   "execution_count": 36,
   "metadata": {},
   "outputs": [
    {
     "data": {
      "text/plain": [
       "0       [30, 01, 2020]\n",
       "1       [02, 02, 2020]\n",
       "2       [03, 02, 2020]\n",
       "3       [02, 03, 2020]\n",
       "4       [02, 03, 2020]\n",
       "5       [03, 03, 2020]\n",
       "6       [04, 03, 2020]\n",
       "7       [04, 03, 2020]\n",
       "8       [04, 03, 2020]\n",
       "9       [04, 03, 2020]\n",
       "10      [04, 03, 2020]\n",
       "11      [04, 03, 2020]\n",
       "12      [04, 03, 2020]\n",
       "13      [04, 03, 2020]\n",
       "14      [04, 03, 2020]\n",
       "15      [04, 03, 2020]\n",
       "16      [04, 03, 2020]\n",
       "17      [04, 03, 2020]\n",
       "18      [04, 03, 2020]\n",
       "19      [04, 03, 2020]\n",
       "20      [04, 03, 2020]\n",
       "21      [04, 03, 2020]\n",
       "22      [04, 03, 2020]\n",
       "23      [04, 03, 2020]\n",
       "24      [04, 03, 2020]\n",
       "25      [04, 03, 2020]\n",
       "26      [04, 03, 2020]\n",
       "27      [04, 03, 2020]\n",
       "28      [05, 03, 2020]\n",
       "29      [05, 03, 2020]\n",
       "             ...      \n",
       "3159               NaN\n",
       "3160               NaN\n",
       "3161               NaN\n",
       "3162               NaN\n",
       "3163               NaN\n",
       "3164               NaN\n",
       "3165               NaN\n",
       "3166               NaN\n",
       "3167               NaN\n",
       "3168               NaN\n",
       "3169               NaN\n",
       "3170               NaN\n",
       "3171               NaN\n",
       "3172               NaN\n",
       "3173               NaN\n",
       "3174               NaN\n",
       "3175               NaN\n",
       "3176               NaN\n",
       "3177               NaN\n",
       "3178               NaN\n",
       "3179               NaN\n",
       "3180               NaN\n",
       "3181               NaN\n",
       "3182               NaN\n",
       "3183               NaN\n",
       "3184               NaN\n",
       "3185               NaN\n",
       "3186               NaN\n",
       "3187               NaN\n",
       "3188               NaN\n",
       "Name: Date Announced, Length: 250422, dtype: object"
      ]
     },
     "execution_count": 36,
     "metadata": {},
     "output_type": "execute_result"
    }
   ],
   "source": [
    "df['Date Announced'].str.split('/')"
   ]
  },
  {
   "cell_type": "code",
   "execution_count": 39,
   "metadata": {},
   "outputs": [
    {
     "data": {
      "text/html": [
       "<div>\n",
       "<style scoped>\n",
       "    .dataframe tbody tr th:only-of-type {\n",
       "        vertical-align: middle;\n",
       "    }\n",
       "\n",
       "    .dataframe tbody tr th {\n",
       "        vertical-align: top;\n",
       "    }\n",
       "\n",
       "    .dataframe thead th {\n",
       "        text-align: right;\n",
       "    }\n",
       "</style>\n",
       "<table border=\"1\" class=\"dataframe\">\n",
       "  <thead>\n",
       "    <tr style=\"text-align: right;\">\n",
       "      <th></th>\n",
       "      <th>0</th>\n",
       "      <th>1</th>\n",
       "      <th>2</th>\n",
       "    </tr>\n",
       "  </thead>\n",
       "  <tbody>\n",
       "    <tr>\n",
       "      <th>0</th>\n",
       "      <td>30</td>\n",
       "      <td>01</td>\n",
       "      <td>2020</td>\n",
       "    </tr>\n",
       "    <tr>\n",
       "      <th>1</th>\n",
       "      <td>02</td>\n",
       "      <td>02</td>\n",
       "      <td>2020</td>\n",
       "    </tr>\n",
       "    <tr>\n",
       "      <th>2</th>\n",
       "      <td>03</td>\n",
       "      <td>02</td>\n",
       "      <td>2020</td>\n",
       "    </tr>\n",
       "    <tr>\n",
       "      <th>3</th>\n",
       "      <td>02</td>\n",
       "      <td>03</td>\n",
       "      <td>2020</td>\n",
       "    </tr>\n",
       "    <tr>\n",
       "      <th>4</th>\n",
       "      <td>02</td>\n",
       "      <td>03</td>\n",
       "      <td>2020</td>\n",
       "    </tr>\n",
       "  </tbody>\n",
       "</table>\n",
       "</div>"
      ],
      "text/plain": [
       "    0   1     2\n",
       "0  30  01  2020\n",
       "1  02  02  2020\n",
       "2  03  02  2020\n",
       "3  02  03  2020\n",
       "4  02  03  2020"
      ]
     },
     "execution_count": 39,
     "metadata": {},
     "output_type": "execute_result"
    }
   ],
   "source": [
    "Date=df['Date Announced'].str.split('/',expand=True)\n",
    "Date.head()"
   ]
  },
  {
   "cell_type": "code",
   "execution_count": 40,
   "metadata": {},
   "outputs": [
    {
     "data": {
      "text/html": [
       "<div>\n",
       "<style scoped>\n",
       "    .dataframe tbody tr th:only-of-type {\n",
       "        vertical-align: middle;\n",
       "    }\n",
       "\n",
       "    .dataframe tbody tr th {\n",
       "        vertical-align: top;\n",
       "    }\n",
       "\n",
       "    .dataframe thead th {\n",
       "        text-align: right;\n",
       "    }\n",
       "</style>\n",
       "<table border=\"1\" class=\"dataframe\">\n",
       "  <thead>\n",
       "    <tr style=\"text-align: right;\">\n",
       "      <th></th>\n",
       "      <th>Day</th>\n",
       "      <th>Month</th>\n",
       "      <th>Year</th>\n",
       "    </tr>\n",
       "  </thead>\n",
       "  <tbody>\n",
       "    <tr>\n",
       "      <th>0</th>\n",
       "      <td>30</td>\n",
       "      <td>01</td>\n",
       "      <td>2020</td>\n",
       "    </tr>\n",
       "    <tr>\n",
       "      <th>1</th>\n",
       "      <td>02</td>\n",
       "      <td>02</td>\n",
       "      <td>2020</td>\n",
       "    </tr>\n",
       "    <tr>\n",
       "      <th>2</th>\n",
       "      <td>03</td>\n",
       "      <td>02</td>\n",
       "      <td>2020</td>\n",
       "    </tr>\n",
       "    <tr>\n",
       "      <th>3</th>\n",
       "      <td>02</td>\n",
       "      <td>03</td>\n",
       "      <td>2020</td>\n",
       "    </tr>\n",
       "    <tr>\n",
       "      <th>4</th>\n",
       "      <td>02</td>\n",
       "      <td>03</td>\n",
       "      <td>2020</td>\n",
       "    </tr>\n",
       "  </tbody>\n",
       "</table>\n",
       "</div>"
      ],
      "text/plain": [
       "  Day Month  Year\n",
       "0  30    01  2020\n",
       "1  02    02  2020\n",
       "2  03    02  2020\n",
       "3  02    03  2020\n",
       "4  02    03  2020"
      ]
     },
     "execution_count": 40,
     "metadata": {},
     "output_type": "execute_result"
    }
   ],
   "source": [
    "Date.columns=['Day','Month','Year']\n",
    "Date.head()"
   ]
  },
  {
   "cell_type": "markdown",
   "metadata": {},
   "source": [
    "# Add 'Date' to original Dataframe"
   ]
  },
  {
   "cell_type": "code",
   "execution_count": 41,
   "metadata": {},
   "outputs": [
    {
     "data": {
      "text/html": [
       "<div>\n",
       "<style scoped>\n",
       "    .dataframe tbody tr th:only-of-type {\n",
       "        vertical-align: middle;\n",
       "    }\n",
       "\n",
       "    .dataframe tbody tr th {\n",
       "        vertical-align: top;\n",
       "    }\n",
       "\n",
       "    .dataframe thead th {\n",
       "        text-align: right;\n",
       "    }\n",
       "</style>\n",
       "<table border=\"1\" class=\"dataframe\">\n",
       "  <thead>\n",
       "    <tr style=\"text-align: right;\">\n",
       "      <th></th>\n",
       "      <th>Num Cases</th>\n",
       "      <th>Date Announced</th>\n",
       "      <th>Age Bracket</th>\n",
       "      <th>Gender</th>\n",
       "      <th>Detected City</th>\n",
       "      <th>Detected District</th>\n",
       "      <th>Detected State</th>\n",
       "      <th>Current Status</th>\n",
       "      <th>Day</th>\n",
       "      <th>Month</th>\n",
       "      <th>Year</th>\n",
       "    </tr>\n",
       "  </thead>\n",
       "  <tbody>\n",
       "    <tr>\n",
       "      <th>0</th>\n",
       "      <td>1.0</td>\n",
       "      <td>30/01/2020</td>\n",
       "      <td>20</td>\n",
       "      <td>F</td>\n",
       "      <td>Thrissur</td>\n",
       "      <td>Thrissur</td>\n",
       "      <td>Kerala</td>\n",
       "      <td>Recovered</td>\n",
       "      <td>30</td>\n",
       "      <td>01</td>\n",
       "      <td>2020</td>\n",
       "    </tr>\n",
       "    <tr>\n",
       "      <th>1</th>\n",
       "      <td>1.0</td>\n",
       "      <td>02/02/2020</td>\n",
       "      <td>NaN</td>\n",
       "      <td>NaN</td>\n",
       "      <td>Alappuzha</td>\n",
       "      <td>Alappuzha</td>\n",
       "      <td>Kerala</td>\n",
       "      <td>Recovered</td>\n",
       "      <td>02</td>\n",
       "      <td>02</td>\n",
       "      <td>2020</td>\n",
       "    </tr>\n",
       "    <tr>\n",
       "      <th>2</th>\n",
       "      <td>1.0</td>\n",
       "      <td>03/02/2020</td>\n",
       "      <td>NaN</td>\n",
       "      <td>NaN</td>\n",
       "      <td>Kasaragod</td>\n",
       "      <td>Kasaragod</td>\n",
       "      <td>Kerala</td>\n",
       "      <td>Recovered</td>\n",
       "      <td>03</td>\n",
       "      <td>02</td>\n",
       "      <td>2020</td>\n",
       "    </tr>\n",
       "    <tr>\n",
       "      <th>3</th>\n",
       "      <td>1.0</td>\n",
       "      <td>02/03/2020</td>\n",
       "      <td>45</td>\n",
       "      <td>M</td>\n",
       "      <td>East Delhi (Mayur Vihar)</td>\n",
       "      <td>East Delhi</td>\n",
       "      <td>Delhi</td>\n",
       "      <td>Recovered</td>\n",
       "      <td>02</td>\n",
       "      <td>03</td>\n",
       "      <td>2020</td>\n",
       "    </tr>\n",
       "    <tr>\n",
       "      <th>4</th>\n",
       "      <td>1.0</td>\n",
       "      <td>02/03/2020</td>\n",
       "      <td>24</td>\n",
       "      <td>M</td>\n",
       "      <td>Hyderabad</td>\n",
       "      <td>Hyderabad</td>\n",
       "      <td>Telangana</td>\n",
       "      <td>Recovered</td>\n",
       "      <td>02</td>\n",
       "      <td>03</td>\n",
       "      <td>2020</td>\n",
       "    </tr>\n",
       "  </tbody>\n",
       "</table>\n",
       "</div>"
      ],
      "text/plain": [
       "   Num Cases Date Announced Age Bracket Gender             Detected City  \\\n",
       "0        1.0     30/01/2020          20      F                  Thrissur   \n",
       "1        1.0     02/02/2020         NaN    NaN                 Alappuzha   \n",
       "2        1.0     03/02/2020         NaN    NaN                 Kasaragod   \n",
       "3        1.0     02/03/2020          45      M  East Delhi (Mayur Vihar)   \n",
       "4        1.0     02/03/2020          24      M                 Hyderabad   \n",
       "\n",
       "  Detected District Detected State Current Status Day Month  Year  \n",
       "0          Thrissur         Kerala      Recovered  30    01  2020  \n",
       "1         Alappuzha         Kerala      Recovered  02    02  2020  \n",
       "2         Kasaragod         Kerala      Recovered  03    02  2020  \n",
       "3        East Delhi          Delhi      Recovered  02    03  2020  \n",
       "4         Hyderabad      Telangana      Recovered  02    03  2020  "
      ]
     },
     "execution_count": 41,
     "metadata": {},
     "output_type": "execute_result"
    }
   ],
   "source": [
    "df=pd.concat([df,Date],axis=1)\n",
    "df.head()"
   ]
  },
  {
   "cell_type": "code",
   "execution_count": 42,
   "metadata": {},
   "outputs": [],
   "source": [
    "df.to_csv('Covid19India.csv')"
   ]
  },
  {
   "cell_type": "markdown",
   "metadata": {},
   "source": [
    "# Final Data Reading"
   ]
  },
  {
   "cell_type": "code",
   "execution_count": 180,
   "metadata": {},
   "outputs": [
    {
     "data": {
      "text/html": [
       "<div>\n",
       "<style scoped>\n",
       "    .dataframe tbody tr th:only-of-type {\n",
       "        vertical-align: middle;\n",
       "    }\n",
       "\n",
       "    .dataframe tbody tr th {\n",
       "        vertical-align: top;\n",
       "    }\n",
       "\n",
       "    .dataframe thead th {\n",
       "        text-align: right;\n",
       "    }\n",
       "</style>\n",
       "<table border=\"1\" class=\"dataframe\">\n",
       "  <thead>\n",
       "    <tr style=\"text-align: right;\">\n",
       "      <th></th>\n",
       "      <th>Unnamed: 0</th>\n",
       "      <th>Num Cases</th>\n",
       "      <th>Date Announced</th>\n",
       "      <th>Age Bracket</th>\n",
       "      <th>Gender</th>\n",
       "      <th>Detected City</th>\n",
       "      <th>Detected District</th>\n",
       "      <th>Detected State</th>\n",
       "      <th>Current Status</th>\n",
       "      <th>Day</th>\n",
       "      <th>Month</th>\n",
       "      <th>Year</th>\n",
       "    </tr>\n",
       "  </thead>\n",
       "  <tbody>\n",
       "    <tr>\n",
       "      <th>0</th>\n",
       "      <td>0</td>\n",
       "      <td>1.0</td>\n",
       "      <td>30-01-2020</td>\n",
       "      <td>20</td>\n",
       "      <td>F</td>\n",
       "      <td>Thrissur</td>\n",
       "      <td>Thrissur</td>\n",
       "      <td>Kerala</td>\n",
       "      <td>Recovered</td>\n",
       "      <td>30.0</td>\n",
       "      <td>1.0</td>\n",
       "      <td>2020.0</td>\n",
       "    </tr>\n",
       "    <tr>\n",
       "      <th>1</th>\n",
       "      <td>1</td>\n",
       "      <td>1.0</td>\n",
       "      <td>02-02-2020</td>\n",
       "      <td>NaN</td>\n",
       "      <td>NaN</td>\n",
       "      <td>Alappuzha</td>\n",
       "      <td>Alappuzha</td>\n",
       "      <td>Kerala</td>\n",
       "      <td>Recovered</td>\n",
       "      <td>2.0</td>\n",
       "      <td>2.0</td>\n",
       "      <td>2020.0</td>\n",
       "    </tr>\n",
       "    <tr>\n",
       "      <th>2</th>\n",
       "      <td>2</td>\n",
       "      <td>1.0</td>\n",
       "      <td>03-02-2020</td>\n",
       "      <td>NaN</td>\n",
       "      <td>NaN</td>\n",
       "      <td>Kasaragod</td>\n",
       "      <td>Kasaragod</td>\n",
       "      <td>Kerala</td>\n",
       "      <td>Recovered</td>\n",
       "      <td>3.0</td>\n",
       "      <td>2.0</td>\n",
       "      <td>2020.0</td>\n",
       "    </tr>\n",
       "    <tr>\n",
       "      <th>3</th>\n",
       "      <td>3</td>\n",
       "      <td>1.0</td>\n",
       "      <td>02-03-2020</td>\n",
       "      <td>45</td>\n",
       "      <td>M</td>\n",
       "      <td>East Delhi (Mayur Vihar)</td>\n",
       "      <td>East Delhi</td>\n",
       "      <td>Delhi</td>\n",
       "      <td>Recovered</td>\n",
       "      <td>2.0</td>\n",
       "      <td>3.0</td>\n",
       "      <td>2020.0</td>\n",
       "    </tr>\n",
       "    <tr>\n",
       "      <th>4</th>\n",
       "      <td>4</td>\n",
       "      <td>1.0</td>\n",
       "      <td>02-03-2020</td>\n",
       "      <td>24</td>\n",
       "      <td>M</td>\n",
       "      <td>Hyderabad</td>\n",
       "      <td>Hyderabad</td>\n",
       "      <td>Telangana</td>\n",
       "      <td>Recovered</td>\n",
       "      <td>2.0</td>\n",
       "      <td>3.0</td>\n",
       "      <td>2020.0</td>\n",
       "    </tr>\n",
       "  </tbody>\n",
       "</table>\n",
       "</div>"
      ],
      "text/plain": [
       "   Unnamed: 0  Num Cases Date Announced Age Bracket Gender  \\\n",
       "0           0        1.0     30-01-2020          20      F   \n",
       "1           1        1.0     02-02-2020         NaN    NaN   \n",
       "2           2        1.0     03-02-2020         NaN    NaN   \n",
       "3           3        1.0     02-03-2020          45      M   \n",
       "4           4        1.0     02-03-2020          24      M   \n",
       "\n",
       "              Detected City Detected District Detected State Current Status  \\\n",
       "0                  Thrissur          Thrissur         Kerala      Recovered   \n",
       "1                 Alappuzha         Alappuzha         Kerala      Recovered   \n",
       "2                 Kasaragod         Kasaragod         Kerala      Recovered   \n",
       "3  East Delhi (Mayur Vihar)        East Delhi          Delhi      Recovered   \n",
       "4                 Hyderabad         Hyderabad      Telangana      Recovered   \n",
       "\n",
       "    Day  Month    Year  \n",
       "0  30.0    1.0  2020.0  \n",
       "1   2.0    2.0  2020.0  \n",
       "2   3.0    2.0  2020.0  \n",
       "3   2.0    3.0  2020.0  \n",
       "4   2.0    3.0  2020.0  "
      ]
     },
     "execution_count": 180,
     "metadata": {},
     "output_type": "execute_result"
    }
   ],
   "source": [
    "df=pd.read_csv(r'D:\\Velocity Corporate Training\\Python\\Databases\\Healthcare Project\\Covid19India\\Covid19India.csv')\n",
    "df.head()"
   ]
  },
  {
   "cell_type": "code",
   "execution_count": 181,
   "metadata": {},
   "outputs": [
    {
     "data": {
      "text/html": [
       "<div>\n",
       "<style scoped>\n",
       "    .dataframe tbody tr th:only-of-type {\n",
       "        vertical-align: middle;\n",
       "    }\n",
       "\n",
       "    .dataframe tbody tr th {\n",
       "        vertical-align: top;\n",
       "    }\n",
       "\n",
       "    .dataframe thead th {\n",
       "        text-align: right;\n",
       "    }\n",
       "</style>\n",
       "<table border=\"1\" class=\"dataframe\">\n",
       "  <thead>\n",
       "    <tr style=\"text-align: right;\">\n",
       "      <th></th>\n",
       "      <th>Num Cases</th>\n",
       "      <th>Date Announced</th>\n",
       "      <th>Age Bracket</th>\n",
       "      <th>Gender</th>\n",
       "      <th>Detected City</th>\n",
       "      <th>Detected District</th>\n",
       "      <th>Detected State</th>\n",
       "      <th>Current Status</th>\n",
       "      <th>Day</th>\n",
       "      <th>Month</th>\n",
       "      <th>Year</th>\n",
       "    </tr>\n",
       "  </thead>\n",
       "  <tbody>\n",
       "    <tr>\n",
       "      <th>0</th>\n",
       "      <td>1.0</td>\n",
       "      <td>30-01-2020</td>\n",
       "      <td>20</td>\n",
       "      <td>F</td>\n",
       "      <td>Thrissur</td>\n",
       "      <td>Thrissur</td>\n",
       "      <td>Kerala</td>\n",
       "      <td>Recovered</td>\n",
       "      <td>30.0</td>\n",
       "      <td>1.0</td>\n",
       "      <td>2020.0</td>\n",
       "    </tr>\n",
       "    <tr>\n",
       "      <th>1</th>\n",
       "      <td>1.0</td>\n",
       "      <td>02-02-2020</td>\n",
       "      <td>NaN</td>\n",
       "      <td>NaN</td>\n",
       "      <td>Alappuzha</td>\n",
       "      <td>Alappuzha</td>\n",
       "      <td>Kerala</td>\n",
       "      <td>Recovered</td>\n",
       "      <td>2.0</td>\n",
       "      <td>2.0</td>\n",
       "      <td>2020.0</td>\n",
       "    </tr>\n",
       "    <tr>\n",
       "      <th>2</th>\n",
       "      <td>1.0</td>\n",
       "      <td>03-02-2020</td>\n",
       "      <td>NaN</td>\n",
       "      <td>NaN</td>\n",
       "      <td>Kasaragod</td>\n",
       "      <td>Kasaragod</td>\n",
       "      <td>Kerala</td>\n",
       "      <td>Recovered</td>\n",
       "      <td>3.0</td>\n",
       "      <td>2.0</td>\n",
       "      <td>2020.0</td>\n",
       "    </tr>\n",
       "    <tr>\n",
       "      <th>3</th>\n",
       "      <td>1.0</td>\n",
       "      <td>02-03-2020</td>\n",
       "      <td>45</td>\n",
       "      <td>M</td>\n",
       "      <td>East Delhi (Mayur Vihar)</td>\n",
       "      <td>East Delhi</td>\n",
       "      <td>Delhi</td>\n",
       "      <td>Recovered</td>\n",
       "      <td>2.0</td>\n",
       "      <td>3.0</td>\n",
       "      <td>2020.0</td>\n",
       "    </tr>\n",
       "    <tr>\n",
       "      <th>4</th>\n",
       "      <td>1.0</td>\n",
       "      <td>02-03-2020</td>\n",
       "      <td>24</td>\n",
       "      <td>M</td>\n",
       "      <td>Hyderabad</td>\n",
       "      <td>Hyderabad</td>\n",
       "      <td>Telangana</td>\n",
       "      <td>Recovered</td>\n",
       "      <td>2.0</td>\n",
       "      <td>3.0</td>\n",
       "      <td>2020.0</td>\n",
       "    </tr>\n",
       "  </tbody>\n",
       "</table>\n",
       "</div>"
      ],
      "text/plain": [
       "   Num Cases Date Announced Age Bracket Gender             Detected City  \\\n",
       "0        1.0     30-01-2020          20      F                  Thrissur   \n",
       "1        1.0     02-02-2020         NaN    NaN                 Alappuzha   \n",
       "2        1.0     03-02-2020         NaN    NaN                 Kasaragod   \n",
       "3        1.0     02-03-2020          45      M  East Delhi (Mayur Vihar)   \n",
       "4        1.0     02-03-2020          24      M                 Hyderabad   \n",
       "\n",
       "  Detected District Detected State Current Status   Day  Month    Year  \n",
       "0          Thrissur         Kerala      Recovered  30.0    1.0  2020.0  \n",
       "1         Alappuzha         Kerala      Recovered   2.0    2.0  2020.0  \n",
       "2         Kasaragod         Kerala      Recovered   3.0    2.0  2020.0  \n",
       "3        East Delhi          Delhi      Recovered   2.0    3.0  2020.0  \n",
       "4         Hyderabad      Telangana      Recovered   2.0    3.0  2020.0  "
      ]
     },
     "execution_count": 181,
     "metadata": {},
     "output_type": "execute_result"
    }
   ],
   "source": [
    "data=df.iloc[:,1:]\n",
    "data.head()"
   ]
  },
  {
   "cell_type": "code",
   "execution_count": 182,
   "metadata": {},
   "outputs": [
    {
     "name": "stdout",
     "output_type": "stream",
     "text": [
      "<class 'pandas.core.frame.DataFrame'>\n",
      "RangeIndex: 248976 entries, 0 to 248975\n",
      "Data columns (total 11 columns):\n",
      "Num Cases            248928 non-null float64\n",
      "Date Announced       248975 non-null object\n",
      "Age Bracket          108153 non-null object\n",
      "Gender               110923 non-null object\n",
      "Detected City        12064 non-null object\n",
      "Detected District    239745 non-null object\n",
      "Detected State       248922 non-null object\n",
      "Current Status       248929 non-null object\n",
      "Day                  248975 non-null float64\n",
      "Month                248975 non-null float64\n",
      "Year                 248975 non-null float64\n",
      "dtypes: float64(4), object(7)\n",
      "memory usage: 20.9+ MB\n"
     ]
    }
   ],
   "source": [
    "data.info()"
   ]
  },
  {
   "cell_type": "code",
   "execution_count": 183,
   "metadata": {},
   "outputs": [
    {
     "data": {
      "text/html": [
       "<div>\n",
       "<style scoped>\n",
       "    .dataframe tbody tr th:only-of-type {\n",
       "        vertical-align: middle;\n",
       "    }\n",
       "\n",
       "    .dataframe tbody tr th {\n",
       "        vertical-align: top;\n",
       "    }\n",
       "\n",
       "    .dataframe thead th {\n",
       "        text-align: right;\n",
       "    }\n",
       "</style>\n",
       "<table border=\"1\" class=\"dataframe\">\n",
       "  <thead>\n",
       "    <tr style=\"text-align: right;\">\n",
       "      <th></th>\n",
       "      <th>Num Cases</th>\n",
       "      <th>Day</th>\n",
       "      <th>Month</th>\n",
       "      <th>Year</th>\n",
       "    </tr>\n",
       "  </thead>\n",
       "  <tbody>\n",
       "    <tr>\n",
       "      <th>count</th>\n",
       "      <td>248928.000000</td>\n",
       "      <td>248975.000000</td>\n",
       "      <td>248975.000000</td>\n",
       "      <td>248975.0</td>\n",
       "    </tr>\n",
       "    <tr>\n",
       "      <th>mean</th>\n",
       "      <td>14.286123</td>\n",
       "      <td>15.661661</td>\n",
       "      <td>6.133708</td>\n",
       "      <td>2020.0</td>\n",
       "    </tr>\n",
       "    <tr>\n",
       "      <th>std</th>\n",
       "      <td>149.691310</td>\n",
       "      <td>8.333915</td>\n",
       "      <td>1.141585</td>\n",
       "      <td>0.0</td>\n",
       "    </tr>\n",
       "    <tr>\n",
       "      <th>min</th>\n",
       "      <td>-11162.000000</td>\n",
       "      <td>1.000000</td>\n",
       "      <td>1.000000</td>\n",
       "      <td>2020.0</td>\n",
       "    </tr>\n",
       "    <tr>\n",
       "      <th>25%</th>\n",
       "      <td>1.000000</td>\n",
       "      <td>9.000000</td>\n",
       "      <td>5.000000</td>\n",
       "      <td>2020.0</td>\n",
       "    </tr>\n",
       "    <tr>\n",
       "      <th>50%</th>\n",
       "      <td>1.000000</td>\n",
       "      <td>16.000000</td>\n",
       "      <td>7.000000</td>\n",
       "      <td>2020.0</td>\n",
       "    </tr>\n",
       "    <tr>\n",
       "      <th>75%</th>\n",
       "      <td>2.000000</td>\n",
       "      <td>22.000000</td>\n",
       "      <td>7.000000</td>\n",
       "      <td>2020.0</td>\n",
       "    </tr>\n",
       "    <tr>\n",
       "      <th>max</th>\n",
       "      <td>10320.000000</td>\n",
       "      <td>31.000000</td>\n",
       "      <td>8.000000</td>\n",
       "      <td>2020.0</td>\n",
       "    </tr>\n",
       "  </tbody>\n",
       "</table>\n",
       "</div>"
      ],
      "text/plain": [
       "           Num Cases            Day          Month      Year\n",
       "count  248928.000000  248975.000000  248975.000000  248975.0\n",
       "mean       14.286123      15.661661       6.133708    2020.0\n",
       "std       149.691310       8.333915       1.141585       0.0\n",
       "min    -11162.000000       1.000000       1.000000    2020.0\n",
       "25%         1.000000       9.000000       5.000000    2020.0\n",
       "50%         1.000000      16.000000       7.000000    2020.0\n",
       "75%         2.000000      22.000000       7.000000    2020.0\n",
       "max     10320.000000      31.000000       8.000000    2020.0"
      ]
     },
     "execution_count": 183,
     "metadata": {},
     "output_type": "execute_result"
    }
   ],
   "source": [
    "data.describe()"
   ]
  },
  {
   "cell_type": "markdown",
   "metadata": {},
   "source": [
    "# Missing Value Handling"
   ]
  },
  {
   "cell_type": "code",
   "execution_count": 184,
   "metadata": {},
   "outputs": [
    {
     "data": {
      "text/plain": [
       "Date Announced            1\n",
       "Day                       1\n",
       "Month                     1\n",
       "Year                      1\n",
       "Current Status           47\n",
       "Num Cases                48\n",
       "Detected State           54\n",
       "Detected District      9231\n",
       "Gender               138053\n",
       "Age Bracket          140823\n",
       "Detected City        236912\n",
       "dtype: int64"
      ]
     },
     "execution_count": 184,
     "metadata": {},
     "output_type": "execute_result"
    }
   ],
   "source": [
    "data.isnull().sum().sort_values()"
   ]
  },
  {
   "cell_type": "code",
   "execution_count": 185,
   "metadata": {},
   "outputs": [
    {
     "data": {
      "text/plain": [
       "Date Announced        0.00\n",
       "Day                   0.00\n",
       "Month                 0.00\n",
       "Year                  0.00\n",
       "Current Status        0.02\n",
       "Num Cases             0.02\n",
       "Detected State        0.02\n",
       "Detected District     3.71\n",
       "Gender               55.45\n",
       "Age Bracket          56.56\n",
       "Detected City        95.15\n",
       "dtype: float64"
      ]
     },
     "execution_count": 185,
     "metadata": {},
     "output_type": "execute_result"
    }
   ],
   "source": [
    "round(data.isnull().sum().sort_values()/len(data)*100,2)    # % wise missing data"
   ]
  },
  {
   "cell_type": "markdown",
   "metadata": {},
   "source": [
    "# Null values from Rows"
   ]
  },
  {
   "cell_type": "code",
   "execution_count": 186,
   "metadata": {},
   "outputs": [
    {
     "data": {
      "text/plain": [
       "224898    11\n",
       "248975     7\n",
       "248941     7\n",
       "248950     7\n",
       "248949     7\n",
       "248948     7\n",
       "248947     7\n",
       "248946     7\n",
       "248945     7\n",
       "248944     7\n",
       "248943     7\n",
       "248942     7\n",
       "248940     7\n",
       "248952     7\n",
       "248939     7\n",
       "248937     7\n",
       "248936     7\n",
       "248935     7\n",
       "248934     7\n",
       "248933     7\n",
       "248932     7\n",
       "248974     7\n",
       "248951     7\n",
       "248938     7\n",
       "248953     7\n",
       "248954     7\n",
       "248973     7\n",
       "248971     7\n",
       "248970     7\n",
       "248969     7\n",
       "          ..\n",
       "125768     0\n",
       "125767     0\n",
       "125766     0\n",
       "125765     0\n",
       "125763     0\n",
       "125788     0\n",
       "125762     0\n",
       "125761     0\n",
       "125760     0\n",
       "125759     0\n",
       "125758     0\n",
       "125757     0\n",
       "125771     0\n",
       "125772     0\n",
       "125773     0\n",
       "125774     0\n",
       "125775     0\n",
       "125776     0\n",
       "125777     0\n",
       "125778     0\n",
       "125779     0\n",
       "125780     0\n",
       "125781     0\n",
       "125782     0\n",
       "125783     0\n",
       "125784     0\n",
       "125785     0\n",
       "125786     0\n",
       "125787     0\n",
       "0          0\n",
       "Length: 248976, dtype: int64"
      ]
     },
     "execution_count": 186,
     "metadata": {},
     "output_type": "execute_result"
    }
   ],
   "source": [
    "data.isnull().sum(axis=1).sort_values(ascending=False)"
   ]
  },
  {
   "cell_type": "code",
   "execution_count": 187,
   "metadata": {},
   "outputs": [
    {
     "name": "stdout",
     "output_type": "stream",
     "text": [
      "['Date Announced', 'Age Bracket', 'Gender', 'Detected City', 'Detected District', 'Detected State', 'Current Status']\n"
     ]
    }
   ],
   "source": [
    "# Finding Categorical Columns\n",
    "categorical_feature_mask = data.dtypes==object\n",
    "\n",
    "# filter categorical columns using mask and turn it into a list\n",
    "categorical_cols = data.columns[categorical_feature_mask].tolist()\n",
    "print(categorical_cols)"
   ]
  },
  {
   "cell_type": "code",
   "execution_count": 188,
   "metadata": {},
   "outputs": [
    {
     "data": {
      "text/html": [
       "<div>\n",
       "<style scoped>\n",
       "    .dataframe tbody tr th:only-of-type {\n",
       "        vertical-align: middle;\n",
       "    }\n",
       "\n",
       "    .dataframe tbody tr th {\n",
       "        vertical-align: top;\n",
       "    }\n",
       "\n",
       "    .dataframe thead th {\n",
       "        text-align: right;\n",
       "    }\n",
       "</style>\n",
       "<table border=\"1\" class=\"dataframe\">\n",
       "  <thead>\n",
       "    <tr style=\"text-align: right;\">\n",
       "      <th></th>\n",
       "      <th>Num Cases</th>\n",
       "      <th>Age Bracket</th>\n",
       "      <th>Gender</th>\n",
       "      <th>Detected City</th>\n",
       "      <th>Detected District</th>\n",
       "      <th>Detected State</th>\n",
       "      <th>Current Status</th>\n",
       "      <th>Day</th>\n",
       "      <th>Month</th>\n",
       "      <th>Year</th>\n",
       "    </tr>\n",
       "  </thead>\n",
       "  <tbody>\n",
       "    <tr>\n",
       "      <th>0</th>\n",
       "      <td>1.0</td>\n",
       "      <td>20</td>\n",
       "      <td>F</td>\n",
       "      <td>Thrissur</td>\n",
       "      <td>Thrissur</td>\n",
       "      <td>Kerala</td>\n",
       "      <td>Recovered</td>\n",
       "      <td>30.0</td>\n",
       "      <td>1.0</td>\n",
       "      <td>2020.0</td>\n",
       "    </tr>\n",
       "    <tr>\n",
       "      <th>1</th>\n",
       "      <td>1.0</td>\n",
       "      <td>NaN</td>\n",
       "      <td>NaN</td>\n",
       "      <td>Alappuzha</td>\n",
       "      <td>Alappuzha</td>\n",
       "      <td>Kerala</td>\n",
       "      <td>Recovered</td>\n",
       "      <td>2.0</td>\n",
       "      <td>2.0</td>\n",
       "      <td>2020.0</td>\n",
       "    </tr>\n",
       "    <tr>\n",
       "      <th>2</th>\n",
       "      <td>1.0</td>\n",
       "      <td>NaN</td>\n",
       "      <td>NaN</td>\n",
       "      <td>Kasaragod</td>\n",
       "      <td>Kasaragod</td>\n",
       "      <td>Kerala</td>\n",
       "      <td>Recovered</td>\n",
       "      <td>3.0</td>\n",
       "      <td>2.0</td>\n",
       "      <td>2020.0</td>\n",
       "    </tr>\n",
       "    <tr>\n",
       "      <th>3</th>\n",
       "      <td>1.0</td>\n",
       "      <td>45</td>\n",
       "      <td>M</td>\n",
       "      <td>East Delhi (Mayur Vihar)</td>\n",
       "      <td>East Delhi</td>\n",
       "      <td>Delhi</td>\n",
       "      <td>Recovered</td>\n",
       "      <td>2.0</td>\n",
       "      <td>3.0</td>\n",
       "      <td>2020.0</td>\n",
       "    </tr>\n",
       "    <tr>\n",
       "      <th>4</th>\n",
       "      <td>1.0</td>\n",
       "      <td>24</td>\n",
       "      <td>M</td>\n",
       "      <td>Hyderabad</td>\n",
       "      <td>Hyderabad</td>\n",
       "      <td>Telangana</td>\n",
       "      <td>Recovered</td>\n",
       "      <td>2.0</td>\n",
       "      <td>3.0</td>\n",
       "      <td>2020.0</td>\n",
       "    </tr>\n",
       "  </tbody>\n",
       "</table>\n",
       "</div>"
      ],
      "text/plain": [
       "   Num Cases Age Bracket Gender             Detected City Detected District  \\\n",
       "0        1.0          20      F                  Thrissur          Thrissur   \n",
       "1        1.0         NaN    NaN                 Alappuzha         Alappuzha   \n",
       "2        1.0         NaN    NaN                 Kasaragod         Kasaragod   \n",
       "3        1.0          45      M  East Delhi (Mayur Vihar)        East Delhi   \n",
       "4        1.0          24      M                 Hyderabad         Hyderabad   \n",
       "\n",
       "  Detected State Current Status   Day  Month    Year  \n",
       "0         Kerala      Recovered  30.0    1.0  2020.0  \n",
       "1         Kerala      Recovered   2.0    2.0  2020.0  \n",
       "2         Kerala      Recovered   3.0    2.0  2020.0  \n",
       "3          Delhi      Recovered   2.0    3.0  2020.0  \n",
       "4      Telangana      Recovered   2.0    3.0  2020.0  "
      ]
     },
     "execution_count": 188,
     "metadata": {},
     "output_type": "execute_result"
    }
   ],
   "source": [
    "data=data.drop(['Date Announced'],axis=1)\n",
    "data.head()"
   ]
  },
  {
   "cell_type": "code",
   "execution_count": 189,
   "metadata": {},
   "outputs": [],
   "source": [
    "data['Gender']=data['Gender'].fillna('missing')"
   ]
  },
  {
   "cell_type": "code",
   "execution_count": 190,
   "metadata": {},
   "outputs": [],
   "source": [
    "data['Detected City']=data['Detected City'].fillna('missing')"
   ]
  },
  {
   "cell_type": "code",
   "execution_count": 191,
   "metadata": {},
   "outputs": [],
   "source": [
    "data['Detected District']=data['Detected District'].fillna('missing')"
   ]
  },
  {
   "cell_type": "code",
   "execution_count": 192,
   "metadata": {},
   "outputs": [],
   "source": [
    "data['Detected State']=data['Detected State'].fillna('missing')"
   ]
  },
  {
   "cell_type": "code",
   "execution_count": 193,
   "metadata": {},
   "outputs": [],
   "source": [
    "# data['Age Bracket']=data['Age Bracket'].fillna(0)"
   ]
  },
  {
   "cell_type": "code",
   "execution_count": 194,
   "metadata": {},
   "outputs": [
    {
     "name": "stdout",
     "output_type": "stream",
     "text": [
      "['Num Cases', 'Day', 'Month', 'Year']\n"
     ]
    }
   ],
   "source": [
    "# Finding Numerical Columns\n",
    "numerical_feature_mask = data.dtypes!=object\n",
    "\n",
    "# filter categorical columns using mask and turn it into a list\n",
    "numerical_cols = data.columns[numerical_feature_mask].tolist()\n",
    "print(numerical_cols)"
   ]
  },
  {
   "cell_type": "code",
   "execution_count": 195,
   "metadata": {},
   "outputs": [],
   "source": [
    "data['Num Cases']=data['Num Cases'].fillna(data['Num Cases'].mean())"
   ]
  },
  {
   "cell_type": "code",
   "execution_count": 196,
   "metadata": {},
   "outputs": [],
   "source": [
    "data['Day']=data['Day'].fillna(0)"
   ]
  },
  {
   "cell_type": "code",
   "execution_count": 197,
   "metadata": {},
   "outputs": [],
   "source": [
    "data['Month']=data['Month'].fillna(0)"
   ]
  },
  {
   "cell_type": "code",
   "execution_count": 198,
   "metadata": {},
   "outputs": [],
   "source": [
    "data['Year']=data['Year'].fillna(0)"
   ]
  },
  {
   "cell_type": "markdown",
   "metadata": {},
   "source": [
    "# Exploratory Data Analysis"
   ]
  },
  {
   "cell_type": "code",
   "execution_count": 155,
   "metadata": {},
   "outputs": [
    {
     "data": {
      "text/plain": [
       "<seaborn.axisgrid.PairGrid at 0x180bef28>"
      ]
     },
     "execution_count": 155,
     "metadata": {},
     "output_type": "execute_result"
    },
    {
     "data": {
      "image/png": "[encoded data removed]",
      "text/plain": [
       "<Figure size 720x720 with 20 Axes>"
      ]
     },
     "metadata": {
      "needs_background": "light"
     },
     "output_type": "display_data"
    }
   ],
   "source": [
    "#Pair plot of each column\n",
    "data_copy=data.copy()\n",
    "data_copy.dropna(inplace=True)\n",
    "sns.pairplot(data_copy)"
   ]
  },
  {
   "cell_type": "markdown",
   "metadata": {},
   "source": [
    "# Monthwise Data"
   ]
  },
  {
   "cell_type": "code",
   "execution_count": 217,
   "metadata": {},
   "outputs": [
    {
     "data": {
      "text/plain": [
       "Month\n",
       "0.0         14\n",
       "1.0          1\n",
       "2.0          2\n",
       "3.0       1635\n",
       "4.0      36092\n",
       "5.0     242881\n",
       "6.0     663178\n",
       "7.0    1878473\n",
       "8.0     734624\n",
       "Name: Num Cases, dtype: int32"
      ]
     },
     "execution_count": 217,
     "metadata": {},
     "output_type": "execute_result"
    }
   ],
   "source": [
    "month=data.groupby('Month')['Num Cases'].sum().astype(int)\n",
    "month"
   ]
  },
  {
   "cell_type": "code",
   "execution_count": 218,
   "metadata": {},
   "outputs": [
    {
     "data": {
      "image/png": "[encoded data removed]",
      "text/plain": [
       "<Figure size 432x288 with 1 Axes>"
      ]
     },
     "metadata": {
      "needs_background": "light"
     },
     "output_type": "display_data"
    }
   ],
   "source": [
    "month.plot.bar()\n",
    "plt.ylabel('No of Cases')\n",
    "plt.title('Monthwise No of Cases')\n",
    "plt.show()"
   ]
  },
  {
   "cell_type": "code",
   "execution_count": 219,
   "metadata": {},
   "outputs": [
    {
     "data": {
      "text/plain": [
       "Month\n",
       "3.0       1431.0\n",
       "4.0      33209.0\n",
       "5.0     155781.0\n",
       "6.0     395144.0\n",
       "7.0    1111262.0\n",
       "8.0     394362.0\n",
       "Name: Num Cases, dtype: float64"
      ]
     },
     "execution_count": 219,
     "metadata": {},
     "output_type": "execute_result"
    }
   ],
   "source": [
    "month_data=data[data['Current Status']=='Hospitalized'].groupby('Month')['Num Cases'].sum()\n",
    "month_data"
   ]
  },
  {
   "cell_type": "code",
   "execution_count": 220,
   "metadata": {},
   "outputs": [
    {
     "data": {
      "image/png": "[encoded data removed]",
      "text/plain": [
       "<Figure size 432x288 with 1 Axes>"
      ]
     },
     "metadata": {
      "needs_background": "light"
     },
     "output_type": "display_data"
    }
   ],
   "source": [
    "month_data.plot.bar()\n",
    "plt.ylabel('Hospitalized Cases')\n",
    "plt.title('Monthwise Hospitalized Cases')\n",
    "plt.show()"
   ]
  },
  {
   "cell_type": "code",
   "execution_count": 221,
   "metadata": {},
   "outputs": [
    {
     "data": {
      "text/plain": [
       "Month\n",
       "1.0         1.000000\n",
       "2.0         2.000000\n",
       "3.0       177.000000\n",
       "4.0      2587.286123\n",
       "5.0     82832.572246\n",
       "6.0    255977.000000\n",
       "7.0    747706.000000\n",
       "8.0    333555.000000\n",
       "Name: Num Cases, dtype: float64"
      ]
     },
     "execution_count": 221,
     "metadata": {},
     "output_type": "execute_result"
    }
   ],
   "source": [
    "month_data_rec=data[data['Current Status']=='Recovered'].groupby('Month')['Num Cases'].sum()\n",
    "month_data_rec"
   ]
  },
  {
   "cell_type": "code",
   "execution_count": 222,
   "metadata": {},
   "outputs": [
    {
     "data": {
      "image/png": "[encoded data removed]",
      "text/plain": [
       "<Figure size 432x288 with 1 Axes>"
      ]
     },
     "metadata": {
      "needs_background": "light"
     },
     "output_type": "display_data"
    }
   ],
   "source": [
    "month_data_rec.plot.bar()\n",
    "plt.ylabel('Recovered Cases')\n",
    "plt.title('Monthwise Recovered Cases')\n",
    "plt.show()"
   ]
  },
  {
   "cell_type": "code",
   "execution_count": 223,
   "metadata": {},
   "outputs": [
    {
     "data": {
      "text/plain": [
       "Month\n",
       "3.0       23.0\n",
       "4.0      295.0\n",
       "5.0     4251.0\n",
       "6.0    12004.0\n",
       "7.0    19145.0\n",
       "8.0     6048.0\n",
       "Name: Num Cases, dtype: float64"
      ]
     },
     "execution_count": 223,
     "metadata": {},
     "output_type": "execute_result"
    }
   ],
   "source": [
    "month_data_dec=data[data['Current Status']=='Deceased'].groupby('Month')['Num Cases'].sum()\n",
    "month_data_dec"
   ]
  },
  {
   "cell_type": "code",
   "execution_count": 224,
   "metadata": {},
   "outputs": [
    {
     "data": {
      "image/png": "[encoded data removed]",
      "text/plain": [
       "<Figure size 432x288 with 1 Axes>"
      ]
     },
     "metadata": {
      "needs_background": "light"
     },
     "output_type": "display_data"
    }
   ],
   "source": [
    "month_data_dec.plot.bar()\n",
    "plt.ylabel('Deceased Cases')\n",
    "plt.title('Monthwise Deceased Cases')\n",
    "plt.show()"
   ]
  },
  {
   "cell_type": "code",
   "execution_count": 225,
   "metadata": {},
   "outputs": [
    {
     "data": {
      "text/plain": [
       "Month\n",
       "3.0      3.0\n",
       "4.0      1.0\n",
       "5.0      9.0\n",
       "6.0     52.0\n",
       "7.0    358.0\n",
       "8.0     31.0\n",
       "Name: Num Cases, dtype: float64"
      ]
     },
     "execution_count": 225,
     "metadata": {},
     "output_type": "execute_result"
    }
   ],
   "source": [
    "month_data_mig=data[data['Current Status']=='Migrated_Other'].groupby('Month')['Num Cases'].sum()\n",
    "month_data_mig"
   ]
  },
  {
   "cell_type": "code",
   "execution_count": 226,
   "metadata": {},
   "outputs": [
    {
     "data": {
      "image/png": "[encoded data removed]",
      "text/plain": [
       "<Figure size 432x288 with 1 Axes>"
      ]
     },
     "metadata": {
      "needs_background": "light"
     },
     "output_type": "display_data"
    }
   ],
   "source": [
    "month_data_mig.plot.bar()\n",
    "plt.ylabel('Migrated_Other Cases')\n",
    "plt.title('Monthwise Migrated_Other Cases')\n",
    "plt.show()"
   ]
  },
  {
   "cell_type": "markdown",
   "metadata": {},
   "source": [
    "# Genderwise Data"
   ]
  },
  {
   "cell_type": "code",
   "execution_count": 227,
   "metadata": {
    "scrolled": true
   },
   "outputs": [
    {
     "data": {
      "text/plain": [
       "Gender\n",
       "Non-Binary    1.800000e+01\n",
       "female        3.894200e+04\n",
       "male          7.334900e+04\n",
       "missing       3.444593e+06\n",
       "Name: Num Cases, dtype: float64"
      ]
     },
     "execution_count": 227,
     "metadata": {},
     "output_type": "execute_result"
    }
   ],
   "source": [
    "data.groupby('Gender')['Num Cases'].sum()"
   ]
  },
  {
   "cell_type": "code",
   "execution_count": 228,
   "metadata": {},
   "outputs": [],
   "source": [
    "data['Gender']=data['Gender'].replace({'F':'female','Femal e':'female','M':'male','M,':'male','M ':'male'})"
   ]
  },
  {
   "cell_type": "code",
   "execution_count": 229,
   "metadata": {},
   "outputs": [
    {
     "data": {
      "text/plain": [
       "Gender\n",
       "Non-Binary         18\n",
       "female          38942\n",
       "male            73349\n",
       "missing       3444592\n",
       "Name: Num Cases, dtype: int32"
      ]
     },
     "execution_count": 229,
     "metadata": {},
     "output_type": "execute_result"
    }
   ],
   "source": [
    "Gender_Data=data.groupby('Gender')['Num Cases'].sum()\n",
    "Gender_Data.astype(int)"
   ]
  },
  {
   "cell_type": "code",
   "execution_count": 239,
   "metadata": {},
   "outputs": [
    {
     "data": {
      "image/png": "[encoded data removed]",
      "text/plain": [
       "<Figure size 1080x720 with 1 Axes>"
      ]
     },
     "metadata": {
      "needs_background": "light"
     },
     "output_type": "display_data"
    }
   ],
   "source": [
    "Gender_Data.plot.bar(figsize=(15,10))\n",
    "plt.ylabel('No of Cases')\n",
    "plt.title('Genderwise No of Cases')\n",
    "plt.show()"
   ]
  },
  {
   "cell_type": "markdown",
   "metadata": {},
   "source": [
    "# Agewise Data"
   ]
  },
  {
   "cell_type": "code",
   "execution_count": 232,
   "metadata": {},
   "outputs": [
    {
     "data": {
      "text/plain": [
       "Age Bracket\n",
       "30          2754.0\n",
       "35          2502.0\n",
       "40          2455.0\n",
       "45          2311.0\n",
       "25          2280.0\n",
       "28          2242.0\n",
       "32          2218.0\n",
       "26          2020.0\n",
       "50          1916.0\n",
       "24          1902.0\n",
       "27          1900.0\n",
       "38          1857.0\n",
       "55          1854.0\n",
       "29          1765.0\n",
       "36          1717.0\n",
       "42          1676.0\n",
       "34          1659.0\n",
       "48          1611.0\n",
       "23          1607.0\n",
       "60          1590.0\n",
       "33          1566.0\n",
       "22          1496.0\n",
       "65          1438.0\n",
       "31          1409.0\n",
       "52          1398.0\n",
       "37          1379.0\n",
       "39          1358.0\n",
       "20          1337.0\n",
       "43          1245.0\n",
       "46          1213.0\n",
       "             ...  \n",
       "0.7            2.0\n",
       "96.0           2.0\n",
       "2 Months       2.0\n",
       "99.0           1.0\n",
       "9 Month        1.0\n",
       "9 Months       1.0\n",
       "9.5            1.0\n",
       "94.0           1.0\n",
       "93.0           1.0\n",
       "29.6           1.0\n",
       "0.4            1.0\n",
       "0.25           1.0\n",
       "91.0           1.0\n",
       "98             1.0\n",
       "8 month        1.0\n",
       "5 Months       1.0\n",
       "6 Months       1.0\n",
       "54.9           1.0\n",
       "5 months       1.0\n",
       "0.01           1.0\n",
       "4.5            1.0\n",
       "2.4            1.0\n",
       "105            1.0\n",
       "1.6            1.0\n",
       "1 DAY          1.0\n",
       "0.8            1.0\n",
       "0.33           1.0\n",
       "0.2            1.0\n",
       "0.05           1.0\n",
       "16 DAYS        1.0\n",
       "Name: Num Cases, Length: 243, dtype: float64"
      ]
     },
     "execution_count": 232,
     "metadata": {},
     "output_type": "execute_result"
    }
   ],
   "source": [
    "data.groupby('Age Bracket')['Num Cases'].sum().sort_values(ascending=False)"
   ]
  },
  {
   "cell_type": "code",
   "execution_count": 237,
   "metadata": {},
   "outputs": [
    {
     "data": {
      "text/plain": [
       "Age Bracket\n",
       "30    2754\n",
       "35    2502\n",
       "40    2455\n",
       "45    2311\n",
       "25    2280\n",
       "28    2242\n",
       "32    2218\n",
       "26    2020\n",
       "50    1916\n",
       "24    1902\n",
       "Name: Num Cases, dtype: int32"
      ]
     },
     "execution_count": 237,
     "metadata": {},
     "output_type": "execute_result"
    }
   ],
   "source": [
    "Age=data.groupby('Age Bracket')['Num Cases'].sum().sort_values(ascending=False).head(10)\n",
    "age=Age.astype(int)\n",
    "age"
   ]
  },
  {
   "cell_type": "code",
   "execution_count": 240,
   "metadata": {},
   "outputs": [
    {
     "data": {
      "image/png": "[encoded data removed]",
      "text/plain": [
       "<Figure size 1080x720 with 1 Axes>"
      ]
     },
     "metadata": {
      "needs_background": "light"
     },
     "output_type": "display_data"
    }
   ],
   "source": [
    "age.plot.bar(figsize=(15,10))\n",
    "plt.ylabel('No of Cases')\n",
    "plt.title('Top 10 Agewise Cases')\n",
    "plt.show()"
   ]
  },
  {
   "cell_type": "markdown",
   "metadata": {},
   "source": [
    "# Statuswise Data"
   ]
  },
  {
   "cell_type": "code",
   "execution_count": 241,
   "metadata": {},
   "outputs": [
    {
     "data": {
      "text/plain": [
       "Current Status\n",
       "Hospitalized      2091189\n",
       "Recovered         1422837\n",
       "Deceased            41766\n",
       "Migrated_Other        454\n",
       "Migrated                5\n",
       "Migrated_other          3\n",
       "Name: Num Cases, dtype: int32"
      ]
     },
     "execution_count": 241,
     "metadata": {},
     "output_type": "execute_result"
    }
   ],
   "source": [
    "status=data.groupby('Current Status')['Num Cases'].sum().sort_values(ascending=False)\n",
    "status.astype(int)"
   ]
  },
  {
   "cell_type": "code",
   "execution_count": 244,
   "metadata": {},
   "outputs": [
    {
     "data": {
      "image/png": "[encoded data removed]",
      "text/plain": [
       "<Figure size 720x576 with 1 Axes>"
      ]
     },
     "metadata": {
      "needs_background": "light"
     },
     "output_type": "display_data"
    }
   ],
   "source": [
    "status.plot.bar(figsize=(10,8))\n",
    "plt.ylabel('No of Cases')\n",
    "plt.title('Current Status wise No of Cases')\n",
    "plt.show()"
   ]
  },
  {
   "cell_type": "markdown",
   "metadata": {},
   "source": [
    "# Statewise Data"
   ]
  },
  {
   "cell_type": "code",
   "execution_count": 245,
   "metadata": {},
   "outputs": [
    {
     "data": {
      "text/plain": [
       "Detected State\n",
       "Maharashtra                                 490248.0\n",
       "Tamil Nadu                                  285017.0\n",
       "Andhra Pradesh                              206958.0\n",
       "Karnataka                                   164852.0\n",
       "Delhi                                       142719.0\n",
       "Uttar Pradesh                               113369.0\n",
       "West Bengal                                  89660.0\n",
       "Telangana                                    77511.0\n",
       "Bihar                                        71793.0\n",
       "Gujarat                                      68880.0\n",
       "Assam                                        55497.0\n",
       "Rajasthan                                    50652.0\n",
       "Odisha                                       44192.0\n",
       "Haryana                                      40042.0\n",
       "Madhya Pradesh                               37296.0\n",
       "Kerala                                       31639.0\n",
       "Jammu and Kashmir                            23926.0\n",
       "Punjab                                       21928.0\n",
       "Jharkhand                                    16482.0\n",
       "Chhattisgarh                                 11400.0\n",
       "Uttarakhand                                   8900.0\n",
       "Goa                                           7947.0\n",
       "Tripura                                       6014.0\n",
       "Puducherry                                    4862.0\n",
       "Manipur                                       3465.0\n",
       "Himachal Pradesh                              3148.0\n",
       "Nagaland                                      2657.0\n",
       "Arunachal Pradesh                             2049.0\n",
       "Ladakh                                        1614.0\n",
       "Dadra and Nagar Haveli and Daman and Diu      1459.0\n",
       "Chandigarh                                    1374.0\n",
       "Andaman and Nicobar Islands                   1211.0\n",
       "Meghalaya                                     1006.0\n",
       "Sikkim                                         854.0\n",
       "Mizoram                                        567.0\n",
       "missing                                          1.0\n",
       "State Unassigned                                 0.0\n",
       "Name: Num Cases, dtype: float64"
      ]
     },
     "execution_count": 245,
     "metadata": {},
     "output_type": "execute_result"
    }
   ],
   "source": [
    "state=data[data['Current Status']=='Hospitalized'].groupby('Detected State')['Num Cases'].sum().sort_values(ascending=False)\n",
    "state"
   ]
  },
  {
   "cell_type": "code",
   "execution_count": 258,
   "metadata": {},
   "outputs": [
    {
     "data": {
      "image/png": "[encoded data removed]",
      "text/plain": [
       "<Figure size 1080x576 with 1 Axes>"
      ]
     },
     "metadata": {
      "needs_background": "light"
     },
     "output_type": "display_data"
    }
   ],
   "source": [
    "state.plot.bar(figsize=(15,8))\n",
    "plt.ylabel('No of Hospitalized Cases')\n",
    "plt.title('Statewise Hospitalized Cases')\n",
    "plt.show()"
   ]
  },
  {
   "cell_type": "code",
   "execution_count": 247,
   "metadata": {},
   "outputs": [
    {
     "data": {
      "text/plain": [
       "Detected State\n",
       "Maharashtra                                 326096.000000\n",
       "Tamil Nadu                                  226561.000000\n",
       "Delhi                                       127357.000000\n",
       "Andhra Pradesh                              120235.000000\n",
       "Karnataka                                    84111.000000\n",
       "Uttar Pradesh                                66515.000000\n",
       "West Bengal                                  62958.000000\n",
       "Telangana                                    54015.000000\n",
       "Gujarat                                      51480.000000\n",
       "Bihar                                        46209.000000\n",
       "Assam                                        38783.000000\n",
       "Rajasthan                                    35684.000000\n",
       "Haryana                                      33257.000000\n",
       "Odisha                                       28663.000000\n",
       "Madhya Pradesh                               27319.000000\n",
       "Kerala                                       18863.000000\n",
       "Jammu and Kashmir                            16081.000000\n",
       "Punjab                                       13956.000000\n",
       "Chhattisgarh                                  8295.000000\n",
       "Jharkhand                                     7478.000000\n",
       "Uttarakhand                                   5706.000000\n",
       "Goa                                           5588.000000\n",
       "Tripura                                       4082.000000\n",
       "Puducherry                                    2910.000000\n",
       "Himachal Pradesh                              1933.000000\n",
       "Manipur                                       1925.000000\n",
       "Arunachal Pradesh                             1325.000000\n",
       "Ladakh                                        1178.000000\n",
       "Dadra and Nagar Haveli and Daman and Diu      1038.000000\n",
       "Nagaland                                       824.000000\n",
       "Chandigarh                                     803.000000\n",
       "Andaman and Nicobar Islands                    425.000000\n",
       "Meghalaya                                      411.000000\n",
       "Sikkim                                         406.000000\n",
       "Mizoram                                        289.000000\n",
       "missing                                         78.858369\n",
       "Name: Num Cases, dtype: float64"
      ]
     },
     "execution_count": 247,
     "metadata": {},
     "output_type": "execute_result"
    }
   ],
   "source": [
    "state1=data[data['Current Status']=='Recovered'].groupby('Detected State')['Num Cases'].sum().sort_values(ascending=False)\n",
    "state1"
   ]
  },
  {
   "cell_type": "code",
   "execution_count": 257,
   "metadata": {},
   "outputs": [
    {
     "data": {
      "image/png": "[encoded data removed]",
      "text/plain": [
       "<Figure size 1080x576 with 1 Axes>"
      ]
     },
     "metadata": {
      "needs_background": "light"
     },
     "output_type": "display_data"
    }
   ],
   "source": [
    "state1.plot.bar(figsize=(15,8))\n",
    "plt.ylabel('No of Recovered Cases')\n",
    "plt.title('Statewise Recovered Cases')\n",
    "plt.show()"
   ]
  },
  {
   "cell_type": "code",
   "execution_count": 251,
   "metadata": {},
   "outputs": [
    {
     "data": {
      "text/plain": [
       "Detected State\n",
       "Maharashtra                                 16761.0\n",
       "Tamil Nadu                                   4667.0\n",
       "Delhi                                        4029.0\n",
       "Karnataka                                    2990.0\n",
       "Gujarat                                      2457.0\n",
       "Uttar Pradesh                                1952.0\n",
       "West Bengal                                  1937.0\n",
       "Andhra Pradesh                               1811.0\n",
       "Madhya Pradesh                                861.0\n",
       "Rajasthan                                     736.0\n",
       "Telangana                                     591.0\n",
       "Punjab                                        523.0\n",
       "Haryana                                       464.0\n",
       "Jammu and Kashmir                             444.0\n",
       "Bihar                                         399.0\n",
       "Odisha                                        292.0\n",
       "Jharkhand                                     148.0\n",
       "Assam                                         131.0\n",
       "Uttarakhand                                   112.0\n",
       "Kerala                                        102.0\n",
       "Chhattisgarh                                   87.0\n",
       "Puducherry                                     75.0\n",
       "Goa                                            70.0\n",
       "Tripura                                        37.0\n",
       "Chandigarh                                     23.0\n",
       "Andaman and Nicobar Islands                    19.0\n",
       "Himachal Pradesh                               12.0\n",
       "Manipur                                        10.0\n",
       "Ladakh                                          9.0\n",
       "Nagaland                                        7.0\n",
       "Meghalaya                                       4.0\n",
       "Arunachal Pradesh                               3.0\n",
       "Dadra and Nagar Haveli and Daman and Diu        2.0\n",
       "Sikkim                                          1.0\n",
       "Name: Num Cases, dtype: float64"
      ]
     },
     "execution_count": 251,
     "metadata": {},
     "output_type": "execute_result"
    }
   ],
   "source": [
    "state2=data[data['Current Status']=='Deceased'].groupby('Detected State')['Num Cases'].sum().sort_values(ascending=False)\n",
    "state2"
   ]
  },
  {
   "cell_type": "code",
   "execution_count": 256,
   "metadata": {},
   "outputs": [
    {
     "data": {
      "image/png": "[encoded data removed]",
      "text/plain": [
       "<Figure size 1080x576 with 1 Axes>"
      ]
     },
     "metadata": {
      "needs_background": "light"
     },
     "output_type": "display_data"
    }
   ],
   "source": [
    "state2.plot.bar(figsize=(15,8))\n",
    "plt.ylabel('No of Deceased Cases')\n",
    "plt.title('Statewise Deceased Cases')\n",
    "plt.show()"
   ]
  },
  {
   "cell_type": "code",
   "execution_count": 253,
   "metadata": {},
   "outputs": [
    {
     "data": {
      "text/plain": [
       "Detected State\n",
       "Maharashtra                                 304.0\n",
       "Kerala                                       39.0\n",
       "Uttarakhand                                  38.0\n",
       "Himachal Pradesh                             28.0\n",
       "Tripura                                      18.0\n",
       "Dadra and Nagar Haveli and Daman and Diu     10.0\n",
       "Karnataka                                     9.0\n",
       "Assam                                         3.0\n",
       "Nagaland                                      2.0\n",
       "Mizoram                                       1.0\n",
       "Chandigarh                                    1.0\n",
       "Bihar                                         1.0\n",
       "Sikkim                                        0.0\n",
       "Andaman and Nicobar Islands                   0.0\n",
       "Name: Num Cases, dtype: float64"
      ]
     },
     "execution_count": 253,
     "metadata": {},
     "output_type": "execute_result"
    }
   ],
   "source": [
    "state3=data[data['Current Status']=='Migrated_Other'].groupby('Detected State')['Num Cases'].sum().sort_values(ascending=False)\n",
    "state3"
   ]
  },
  {
   "cell_type": "code",
   "execution_count": 255,
   "metadata": {},
   "outputs": [
    {
     "data": {
      "image/png": "[encoded data removed]",
      "text/plain": [
       "<Figure size 1080x576 with 1 Axes>"
      ]
     },
     "metadata": {
      "needs_background": "light"
     },
     "output_type": "display_data"
    }
   ],
   "source": [
    "state3.plot.bar(figsize=(15,8))\n",
    "plt.ylabel('No of Migrated_Other Cases')\n",
    "plt.title('Statewise Migrated_Other Cases')\n",
    "plt.show()"
   ]
  },
  {
   "cell_type": "markdown",
   "metadata": {},
   "source": [
    "# Daywise Data"
   ]
  },
  {
   "cell_type": "code",
   "execution_count": 259,
   "metadata": {},
   "outputs": [
    {
     "data": {
      "text/plain": [
       "Month  Day \n",
       "3.0    4.0         5.0\n",
       "       5.0         1.0\n",
       "       7.0         2.0\n",
       "       9.0         4.0\n",
       "       10.0        4.0\n",
       "       11.0        8.0\n",
       "       12.0        4.0\n",
       "       13.0        6.0\n",
       "       14.0       11.0\n",
       "       15.0        8.0\n",
       "       16.0       12.0\n",
       "       17.0       14.0\n",
       "       18.0       22.0\n",
       "       19.0       21.0\n",
       "       20.0       52.0\n",
       "       21.0       67.0\n",
       "       22.0       59.0\n",
       "       23.0       82.0\n",
       "       24.0       63.0\n",
       "       25.0       75.0\n",
       "       26.0       58.0\n",
       "       27.0      140.0\n",
       "       28.0      123.0\n",
       "       29.0      106.0\n",
       "       30.0      178.0\n",
       "       31.0      306.0\n",
       "4.0    1.0       423.0\n",
       "       2.0       485.0\n",
       "       3.0       556.0\n",
       "       4.0       576.0\n",
       "                ...   \n",
       "7.0    10.0    27749.0\n",
       "       11.0    27757.0\n",
       "       12.0    29106.0\n",
       "       13.0    28178.0\n",
       "       14.0    29917.0\n",
       "       15.0    32607.0\n",
       "       16.0    35468.0\n",
       "       17.0    34824.0\n",
       "       18.0    37411.0\n",
       "       19.0    40235.0\n",
       "       20.0    36806.0\n",
       "       21.0    39170.0\n",
       "       22.0    45601.0\n",
       "       23.0    48443.0\n",
       "       24.0    48888.0\n",
       "       25.0    50072.0\n",
       "       26.0    48932.0\n",
       "       27.0    46484.0\n",
       "       28.0    49631.0\n",
       "       29.0    52479.0\n",
       "       30.0    54968.0\n",
       "       31.0    57486.0\n",
       "8.0    1.0     55117.0\n",
       "       2.0     52672.0\n",
       "       3.0     50488.0\n",
       "       4.0     51282.0\n",
       "       5.0     56626.0\n",
       "       6.0     62170.0\n",
       "       7.0     61455.0\n",
       "       8.0      4552.0\n",
       "Name: Num Cases, Length: 156, dtype: float64"
      ]
     },
     "execution_count": 259,
     "metadata": {},
     "output_type": "execute_result"
    }
   ],
   "source": [
    "day=data[data['Current Status']=='Hospitalized'].groupby(['Month','Day'])['Num Cases'].sum()\n",
    "day"
   ]
  },
  {
   "cell_type": "code",
   "execution_count": 262,
   "metadata": {},
   "outputs": [
    {
     "data": {
      "image/png": "[encoded data removed]",
      "text/plain": [
       "<Figure size 720x720 with 6 Axes>"
      ]
     },
     "metadata": {
      "needs_background": "light"
     },
     "output_type": "display_data"
    }
   ],
   "source": [
    "day.unstack(level=0).plot(kind='bar',subplots=True,figsize=(10,10))\n",
    "plt.show()"
   ]
  },
  {
   "cell_type": "code",
   "execution_count": 263,
   "metadata": {},
   "outputs": [
    {
     "data": {
      "text/plain": [
       "Month  Day \n",
       "1.0    30.0        1.0\n",
       "2.0    2.0         1.0\n",
       "       3.0         1.0\n",
       "3.0    2.0         2.0\n",
       "       3.0         1.0\n",
       "       4.0        17.0\n",
       "       5.0         1.0\n",
       "       6.0         1.0\n",
       "       7.0         1.0\n",
       "       8.0         5.0\n",
       "       9.0         5.0\n",
       "       10.0       11.0\n",
       "       12.0        4.0\n",
       "       13.0        3.0\n",
       "       15.0        2.0\n",
       "       16.0        2.0\n",
       "       17.0        5.0\n",
       "       18.0        3.0\n",
       "       19.0        5.0\n",
       "       20.0        6.0\n",
       "       21.0        8.0\n",
       "       22.0        8.0\n",
       "       23.0        9.0\n",
       "       24.0       10.0\n",
       "       25.0       10.0\n",
       "       26.0       13.0\n",
       "       27.0       11.0\n",
       "       28.0       11.0\n",
       "       29.0       13.0\n",
       "       30.0        8.0\n",
       "                ...   \n",
       "7.0    10.0    20289.0\n",
       "       11.0    19981.0\n",
       "       12.0    18198.0\n",
       "       13.0    17683.0\n",
       "       14.0    20976.0\n",
       "       15.0    20646.0\n",
       "       16.0    22867.0\n",
       "       17.0    17486.0\n",
       "       18.0    23582.0\n",
       "       19.0    22730.0\n",
       "       20.0    24303.0\n",
       "       21.0    27589.0\n",
       "       22.0    31875.0\n",
       "       23.0    33326.0\n",
       "       24.0    32514.0\n",
       "       25.0    37125.0\n",
       "       26.0    31512.0\n",
       "       27.0    34354.0\n",
       "       28.0    35683.0\n",
       "       29.0    32886.0\n",
       "       30.0    37425.0\n",
       "       31.0    36554.0\n",
       "8.0    1.0     51368.0\n",
       "       2.0     40355.0\n",
       "       3.0     43070.0\n",
       "       4.0     51220.0\n",
       "       5.0     45583.0\n",
       "       6.0     50141.0\n",
       "       7.0     50387.0\n",
       "       8.0      1431.0\n",
       "Name: Num Cases, Length: 137, dtype: float64"
      ]
     },
     "execution_count": 263,
     "metadata": {},
     "output_type": "execute_result"
    }
   ],
   "source": [
    "day1=data[data['Current Status']=='Recovered'].groupby(['Month','Day'])['Num Cases'].sum()\n",
    "day1"
   ]
  },
  {
   "cell_type": "code",
   "execution_count": 264,
   "metadata": {},
   "outputs": [
    {
     "data": {
      "image/png": "[encoded data removed]",
      "text/plain": [
       "<Figure size 720x720 with 8 Axes>"
      ]
     },
     "metadata": {
      "needs_background": "light"
     },
     "output_type": "display_data"
    }
   ],
   "source": [
    "day1.unstack(level=0).plot(kind='bar',subplots=True,figsize=(10,10))\n",
    "plt.show()"
   ]
  },
  {
   "cell_type": "code",
   "execution_count": 265,
   "metadata": {},
   "outputs": [
    {
     "data": {
      "text/plain": [
       "Month  Day \n",
       "3.0    12.0       2.0\n",
       "       13.0       1.0\n",
       "       19.0       1.0\n",
       "       21.0       3.0\n",
       "       22.0       2.0\n",
       "       23.0       3.0\n",
       "       24.0       1.0\n",
       "       25.0       1.0\n",
       "       26.0       2.0\n",
       "       27.0       2.0\n",
       "       28.0       2.0\n",
       "       29.0       1.0\n",
       "       30.0       1.0\n",
       "       31.0       1.0\n",
       "4.0    2.0        1.0\n",
       "       3.0        4.0\n",
       "       4.0        3.0\n",
       "       5.0        3.0\n",
       "       7.0        3.0\n",
       "       8.0        1.0\n",
       "       9.0        1.0\n",
       "       10.0       1.0\n",
       "       11.0       1.0\n",
       "       15.0       2.0\n",
       "       18.0       1.0\n",
       "       19.0       1.0\n",
       "       27.0      58.0\n",
       "       28.0      69.0\n",
       "       29.0      71.0\n",
       "       30.0      75.0\n",
       "                ...  \n",
       "7.0    10.0     520.0\n",
       "       11.0     541.0\n",
       "       12.0     497.0\n",
       "       13.0     541.0\n",
       "       14.0     582.0\n",
       "       15.0     614.0\n",
       "       16.0     680.0\n",
       "       17.0     676.0\n",
       "       18.0     543.0\n",
       "       19.0     675.0\n",
       "       20.0     596.0\n",
       "       21.0     671.0\n",
       "       22.0    1130.0\n",
       "       23.0     755.0\n",
       "       24.0     763.0\n",
       "       25.0     703.0\n",
       "       26.0     704.0\n",
       "       27.0     642.0\n",
       "       28.0     774.0\n",
       "       29.0     775.0\n",
       "       30.0     784.0\n",
       "       31.0     764.0\n",
       "8.0    1.0      854.0\n",
       "       2.0      760.0\n",
       "       3.0      806.0\n",
       "       4.0      849.0\n",
       "       5.0      919.0\n",
       "       6.0      899.0\n",
       "       7.0      937.0\n",
       "       8.0       24.0\n",
       "Name: Num Cases, Length: 130, dtype: float64"
      ]
     },
     "execution_count": 265,
     "metadata": {},
     "output_type": "execute_result"
    }
   ],
   "source": [
    "day2=data[data['Current Status']=='Deceased'].groupby(['Month','Day'])['Num Cases'].sum()\n",
    "day2"
   ]
  },
  {
   "cell_type": "code",
   "execution_count": 266,
   "metadata": {},
   "outputs": [
    {
     "data": {
      "image/png": "[encoded data removed]",
      "text/plain": [
       "<Figure size 720x720 with 6 Axes>"
      ]
     },
     "metadata": {
      "needs_background": "light"
     },
     "output_type": "display_data"
    }
   ],
   "source": [
    "day2.unstack(level=0).plot(kind='bar',subplots=True,figsize=(10,10))\n",
    "plt.show()"
   ]
  },
  {
   "cell_type": "code",
   "execution_count": 267,
   "metadata": {},
   "outputs": [
    {
     "data": {
      "text/plain": [
       "Month  Day \n",
       "3.0    14.0      3.0\n",
       "4.0    27.0      1.0\n",
       "5.0    10.0      0.0\n",
       "       20.0      3.0\n",
       "       23.0      1.0\n",
       "       24.0      1.0\n",
       "       25.0      3.0\n",
       "       29.0      1.0\n",
       "6.0    3.0       0.0\n",
       "       4.0       1.0\n",
       "       6.0       2.0\n",
       "       8.0       2.0\n",
       "       11.0      7.0\n",
       "       13.0     14.0\n",
       "       14.0      2.0\n",
       "       15.0      3.0\n",
       "       16.0      1.0\n",
       "       18.0      1.0\n",
       "       19.0      4.0\n",
       "       20.0      1.0\n",
       "       23.0      4.0\n",
       "       26.0      1.0\n",
       "       29.0      4.0\n",
       "       30.0      5.0\n",
       "7.0    5.0      17.0\n",
       "       6.0      13.0\n",
       "       7.0       2.0\n",
       "       8.0       1.0\n",
       "       9.0       1.0\n",
       "       10.0    264.0\n",
       "       11.0      6.0\n",
       "       13.0      2.0\n",
       "       14.0      7.0\n",
       "       16.0      1.0\n",
       "       17.0      3.0\n",
       "       18.0      6.0\n",
       "       19.0      3.0\n",
       "       20.0      2.0\n",
       "       21.0      1.0\n",
       "       22.0      7.0\n",
       "       23.0      1.0\n",
       "       24.0      2.0\n",
       "       26.0      1.0\n",
       "       27.0      2.0\n",
       "       28.0      1.0\n",
       "       29.0      4.0\n",
       "       30.0      8.0\n",
       "       31.0      3.0\n",
       "8.0    1.0       6.0\n",
       "       2.0       2.0\n",
       "       3.0       3.0\n",
       "       4.0      12.0\n",
       "       5.0       1.0\n",
       "       6.0       4.0\n",
       "       7.0       3.0\n",
       "Name: Num Cases, dtype: float64"
      ]
     },
     "execution_count": 267,
     "metadata": {},
     "output_type": "execute_result"
    }
   ],
   "source": [
    "day3=data[data['Current Status']=='Migrated_Other'].groupby(['Month','Day'])['Num Cases'].sum()\n",
    "day3"
   ]
  },
  {
   "cell_type": "code",
   "execution_count": 268,
   "metadata": {},
   "outputs": [
    {
     "data": {
      "image/png": "[encoded data removed]",
      "text/plain": [
       "<Figure size 720x720 with 6 Axes>"
      ]
     },
     "metadata": {
      "needs_background": "light"
     },
     "output_type": "display_data"
    }
   ],
   "source": [
    "day3.unstack(level=0).plot(kind='bar',subplots=True,figsize=(10,10))\n",
    "plt.show()"
   ]
  },
  {
   "cell_type": "code",
   "execution_count": null,
   "metadata": {},
   "outputs": [],
   "source": []
  }
 ],
 "metadata": {
  "kernelspec": {
   "display_name": "Python 3",
   "language": "python",
   "name": "python3"
  },
  "language_info": {
   "codemirror_mode": {
    "name": "ipython",
    "version": 3
   },
   "file_extension": ".py",
   "mimetype": "text/x-python",
   "name": "python",
   "nbconvert_exporter": "python",
   "pygments_lexer": "ipython3",
   "version": "3.7.3"
  }
 },
 "nbformat": 4,
 "nbformat_minor": 2
}
